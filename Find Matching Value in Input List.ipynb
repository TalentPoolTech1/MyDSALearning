{
 "cells": [
  {
   "cell_type": "code",
   "execution_count": 71,
   "id": "bb56ff76",
   "metadata": {},
   "outputs": [],
   "source": [
    "def find_matching_vals(in_list, search_val, matching_list):\n",
    "    return_list = []\n",
    "    in_list_len = len(in_list)\n",
    "    search_val_len = len(search_val)\n",
    "    print(\"Input list length is {0}\".format(in_list_len))\n",
    "    print(\"Search list length is {0}\".format(search_val_len))\n",
    "    if (in_list_len == 0  and search_val_len == 0):\n",
    "        raise Exception(\"Both input list and search value list are empty. Need atleast one value to search.\")\n",
    "    elif (in_list_len > 0  and search_val_len == 0):\n",
    "        raise Exception(\"Atleast one value is required to search in the input list.\")\n",
    "    elif (in_list_len == 0  and search_val_len > 0):\n",
    "        raise Exception(\"Input list is empty.\")\n",
    "    else:\n",
    "        for i in search_val:\n",
    "            for j in in_list:\n",
    "                if i == j:\n",
    "                    return_list.append(i)\n",
    "                    break\n",
    "    if return_list != []:\n",
    "         return return_list\n",
    "    else:\n",
    "         raise Exception(\"No Match Found.\")\n",
    "    "
   ]
  },
  {
   "cell_type": "code",
   "execution_count": 74,
   "id": "cd92710b",
   "metadata": {},
   "outputs": [
    {
     "name": "stdout",
     "output_type": "stream",
     "text": [
      "Input list length is 3\n",
      "Search list length is 1\n"
     ]
    },
    {
     "data": {
      "text/plain": [
       "[10]"
      ]
     },
     "execution_count": 74,
     "metadata": {},
     "output_type": "execute_result"
    }
   ],
   "source": [
    "in_list = [10, 10, 10]\n",
    "match_list = [10]\n",
    "result = []\n",
    "find_matching_vals(in_list, match_list,result)"
   ]
  },
  {
   "cell_type": "code",
   "execution_count": 75,
   "id": "b1ecdc8f",
   "metadata": {},
   "outputs": [
    {
     "name": "stdout",
     "output_type": "stream",
     "text": [
      "Input list length is 1\n",
      "Search list length is 1\n"
     ]
    },
    {
     "data": {
      "text/plain": [
       "[10]"
      ]
     },
     "execution_count": 75,
     "metadata": {},
     "output_type": "execute_result"
    }
   ],
   "source": [
    "in_list = [10]\n",
    "match_list = [10]\n",
    "result = []\n",
    "find_matching_vals(in_list, match_list,result)"
   ]
  },
  {
   "cell_type": "code",
   "execution_count": 76,
   "id": "7266c27c",
   "metadata": {},
   "outputs": [
    {
     "name": "stdout",
     "output_type": "stream",
     "text": [
      "Input list length is 3\n",
      "Search list length is 3\n"
     ]
    },
    {
     "data": {
      "text/plain": [
       "[10, 10, 10]"
      ]
     },
     "execution_count": 76,
     "metadata": {},
     "output_type": "execute_result"
    }
   ],
   "source": [
    "in_list = [10, 10, 10]\n",
    "match_list = [10, 10, 10]\n",
    "result = []\n",
    "find_matching_vals(in_list, match_list,result)"
   ]
  },
  {
   "cell_type": "code",
   "execution_count": 77,
   "id": "c3b5fe58",
   "metadata": {},
   "outputs": [
    {
     "name": "stdout",
     "output_type": "stream",
     "text": [
      "Input list length is 0\n",
      "Search list length is 1\n"
     ]
    },
    {
     "ename": "Exception",
     "evalue": "Input list is empty.",
     "output_type": "error",
     "traceback": [
      "\u001b[1;31m---------------------------------------------------------------------------\u001b[0m",
      "\u001b[1;31mException\u001b[0m                                 Traceback (most recent call last)",
      "Input \u001b[1;32mIn [77]\u001b[0m, in \u001b[0;36m<cell line: 4>\u001b[1;34m()\u001b[0m\n\u001b[0;32m      2\u001b[0m match_list \u001b[38;5;241m=\u001b[39m [\u001b[38;5;241m10\u001b[39m]\n\u001b[0;32m      3\u001b[0m result \u001b[38;5;241m=\u001b[39m []\n\u001b[1;32m----> 4\u001b[0m \u001b[43mfind_matching_vals\u001b[49m\u001b[43m(\u001b[49m\u001b[43min_list\u001b[49m\u001b[43m,\u001b[49m\u001b[43m \u001b[49m\u001b[43mmatch_list\u001b[49m\u001b[43m,\u001b[49m\u001b[43mresult\u001b[49m\u001b[43m)\u001b[49m\n",
      "Input \u001b[1;32mIn [71]\u001b[0m, in \u001b[0;36mfind_matching_vals\u001b[1;34m(in_list, search_val, matching_list)\u001b[0m\n\u001b[0;32m     10\u001b[0m     \u001b[38;5;28;01mraise\u001b[39;00m \u001b[38;5;167;01mException\u001b[39;00m(\u001b[38;5;124m\"\u001b[39m\u001b[38;5;124mAtleast one value is required to search in the input list.\u001b[39m\u001b[38;5;124m\"\u001b[39m)\n\u001b[0;32m     11\u001b[0m \u001b[38;5;28;01melif\u001b[39;00m (in_list_len \u001b[38;5;241m==\u001b[39m \u001b[38;5;241m0\u001b[39m  \u001b[38;5;129;01mand\u001b[39;00m search_val_len \u001b[38;5;241m>\u001b[39m \u001b[38;5;241m0\u001b[39m):\n\u001b[1;32m---> 12\u001b[0m     \u001b[38;5;28;01mraise\u001b[39;00m \u001b[38;5;167;01mException\u001b[39;00m(\u001b[38;5;124m\"\u001b[39m\u001b[38;5;124mInput list is empty.\u001b[39m\u001b[38;5;124m\"\u001b[39m)\n\u001b[0;32m     13\u001b[0m \u001b[38;5;28;01melse\u001b[39;00m:\n\u001b[0;32m     14\u001b[0m     \u001b[38;5;28;01mfor\u001b[39;00m i \u001b[38;5;129;01min\u001b[39;00m search_val:\n",
      "\u001b[1;31mException\u001b[0m: Input list is empty."
     ]
    }
   ],
   "source": [
    "in_list = []\n",
    "match_list = [10]\n",
    "result = []\n",
    "find_matching_vals(in_list, match_list,result)"
   ]
  },
  {
   "cell_type": "code",
   "execution_count": 78,
   "id": "222fe5cc",
   "metadata": {},
   "outputs": [
    {
     "name": "stdout",
     "output_type": "stream",
     "text": [
      "Input list length is 3\n",
      "Search list length is 0\n"
     ]
    },
    {
     "ename": "Exception",
     "evalue": "Atleast one value is required to search in the input list.",
     "output_type": "error",
     "traceback": [
      "\u001b[1;31m---------------------------------------------------------------------------\u001b[0m",
      "\u001b[1;31mException\u001b[0m                                 Traceback (most recent call last)",
      "Input \u001b[1;32mIn [78]\u001b[0m, in \u001b[0;36m<cell line: 4>\u001b[1;34m()\u001b[0m\n\u001b[0;32m      2\u001b[0m match_list \u001b[38;5;241m=\u001b[39m []\n\u001b[0;32m      3\u001b[0m result \u001b[38;5;241m=\u001b[39m []\n\u001b[1;32m----> 4\u001b[0m \u001b[43mfind_matching_vals\u001b[49m\u001b[43m(\u001b[49m\u001b[43min_list\u001b[49m\u001b[43m,\u001b[49m\u001b[43m \u001b[49m\u001b[43mmatch_list\u001b[49m\u001b[43m,\u001b[49m\u001b[43mresult\u001b[49m\u001b[43m)\u001b[49m\n",
      "Input \u001b[1;32mIn [71]\u001b[0m, in \u001b[0;36mfind_matching_vals\u001b[1;34m(in_list, search_val, matching_list)\u001b[0m\n\u001b[0;32m      8\u001b[0m     \u001b[38;5;28;01mraise\u001b[39;00m \u001b[38;5;167;01mException\u001b[39;00m(\u001b[38;5;124m\"\u001b[39m\u001b[38;5;124mBoth input list and search value list are empty. Need atleast one value to search.\u001b[39m\u001b[38;5;124m\"\u001b[39m)\n\u001b[0;32m      9\u001b[0m \u001b[38;5;28;01melif\u001b[39;00m (in_list_len \u001b[38;5;241m>\u001b[39m \u001b[38;5;241m0\u001b[39m  \u001b[38;5;129;01mand\u001b[39;00m search_val_len \u001b[38;5;241m==\u001b[39m \u001b[38;5;241m0\u001b[39m):\n\u001b[1;32m---> 10\u001b[0m     \u001b[38;5;28;01mraise\u001b[39;00m \u001b[38;5;167;01mException\u001b[39;00m(\u001b[38;5;124m\"\u001b[39m\u001b[38;5;124mAtleast one value is required to search in the input list.\u001b[39m\u001b[38;5;124m\"\u001b[39m)\n\u001b[0;32m     11\u001b[0m \u001b[38;5;28;01melif\u001b[39;00m (in_list_len \u001b[38;5;241m==\u001b[39m \u001b[38;5;241m0\u001b[39m  \u001b[38;5;129;01mand\u001b[39;00m search_val_len \u001b[38;5;241m>\u001b[39m \u001b[38;5;241m0\u001b[39m):\n\u001b[0;32m     12\u001b[0m     \u001b[38;5;28;01mraise\u001b[39;00m \u001b[38;5;167;01mException\u001b[39;00m(\u001b[38;5;124m\"\u001b[39m\u001b[38;5;124mInput list is empty.\u001b[39m\u001b[38;5;124m\"\u001b[39m)\n",
      "\u001b[1;31mException\u001b[0m: Atleast one value is required to search in the input list."
     ]
    }
   ],
   "source": [
    "in_list = [10, 10, 10]\n",
    "match_list = []\n",
    "result = []\n",
    "find_matching_vals(in_list, match_list,result)"
   ]
  },
  {
   "cell_type": "code",
   "execution_count": 79,
   "id": "0bd296ba",
   "metadata": {},
   "outputs": [
    {
     "name": "stdout",
     "output_type": "stream",
     "text": [
      "Input list length is 0\n",
      "Search list length is 0\n"
     ]
    },
    {
     "ename": "Exception",
     "evalue": "Both input list and search value list are empty. Need atleast one value to search.",
     "output_type": "error",
     "traceback": [
      "\u001b[1;31m---------------------------------------------------------------------------\u001b[0m",
      "\u001b[1;31mException\u001b[0m                                 Traceback (most recent call last)",
      "Input \u001b[1;32mIn [79]\u001b[0m, in \u001b[0;36m<cell line: 4>\u001b[1;34m()\u001b[0m\n\u001b[0;32m      2\u001b[0m match_list \u001b[38;5;241m=\u001b[39m []\n\u001b[0;32m      3\u001b[0m result \u001b[38;5;241m=\u001b[39m []\n\u001b[1;32m----> 4\u001b[0m \u001b[43mfind_matching_vals\u001b[49m\u001b[43m(\u001b[49m\u001b[43min_list\u001b[49m\u001b[43m,\u001b[49m\u001b[43m \u001b[49m\u001b[43mmatch_list\u001b[49m\u001b[43m,\u001b[49m\u001b[43mresult\u001b[49m\u001b[43m)\u001b[49m\n",
      "Input \u001b[1;32mIn [71]\u001b[0m, in \u001b[0;36mfind_matching_vals\u001b[1;34m(in_list, search_val, matching_list)\u001b[0m\n\u001b[0;32m      6\u001b[0m \u001b[38;5;28mprint\u001b[39m(\u001b[38;5;124m\"\u001b[39m\u001b[38;5;124mSearch list length is \u001b[39m\u001b[38;5;132;01m{0}\u001b[39;00m\u001b[38;5;124m\"\u001b[39m\u001b[38;5;241m.\u001b[39mformat(search_val_len))\n\u001b[0;32m      7\u001b[0m \u001b[38;5;28;01mif\u001b[39;00m (in_list_len \u001b[38;5;241m==\u001b[39m \u001b[38;5;241m0\u001b[39m  \u001b[38;5;129;01mand\u001b[39;00m search_val_len \u001b[38;5;241m==\u001b[39m \u001b[38;5;241m0\u001b[39m):\n\u001b[1;32m----> 8\u001b[0m     \u001b[38;5;28;01mraise\u001b[39;00m \u001b[38;5;167;01mException\u001b[39;00m(\u001b[38;5;124m\"\u001b[39m\u001b[38;5;124mBoth input list and search value list are empty. Need atleast one value to search.\u001b[39m\u001b[38;5;124m\"\u001b[39m)\n\u001b[0;32m      9\u001b[0m \u001b[38;5;28;01melif\u001b[39;00m (in_list_len \u001b[38;5;241m>\u001b[39m \u001b[38;5;241m0\u001b[39m  \u001b[38;5;129;01mand\u001b[39;00m search_val_len \u001b[38;5;241m==\u001b[39m \u001b[38;5;241m0\u001b[39m):\n\u001b[0;32m     10\u001b[0m     \u001b[38;5;28;01mraise\u001b[39;00m \u001b[38;5;167;01mException\u001b[39;00m(\u001b[38;5;124m\"\u001b[39m\u001b[38;5;124mAtleast one value is required to search in the input list.\u001b[39m\u001b[38;5;124m\"\u001b[39m)\n",
      "\u001b[1;31mException\u001b[0m: Both input list and search value list are empty. Need atleast one value to search."
     ]
    }
   ],
   "source": [
    "in_list = []\n",
    "match_list = []\n",
    "result = []\n",
    "find_matching_vals(in_list, match_list,result)"
   ]
  }
 ],
 "metadata": {
  "kernelspec": {
   "display_name": "Python 3 (ipykernel)",
   "language": "python",
   "name": "python3"
  },
  "language_info": {
   "codemirror_mode": {
    "name": "ipython",
    "version": 3
   },
   "file_extension": ".py",
   "mimetype": "text/x-python",
   "name": "python",
   "nbconvert_exporter": "python",
   "pygments_lexer": "ipython3",
   "version": "3.9.12"
  }
 },
 "nbformat": 4,
 "nbformat_minor": 5
}
