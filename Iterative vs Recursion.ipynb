{
 "cells": [
  {
   "cell_type": "code",
   "execution_count": 2,
   "id": "d08e638d",
   "metadata": {},
   "outputs": [
    {
     "data": {
      "text/plain": [
       "55"
      ]
     },
     "execution_count": 2,
     "metadata": {},
     "output_type": "execute_result"
    }
   ],
   "source": [
    "def add_numbers_iterative(n):\n",
    "    i = 0\n",
    "    while n > 0:\n",
    "        i += n\n",
    "        n -= 1\n",
    "    return i\n",
    "\n",
    "add_numbers_iterative(10)"
   ]
  },
  {
   "cell_type": "code",
   "execution_count": 30,
   "id": "18126d3b",
   "metadata": {},
   "outputs": [
    {
     "data": {
      "text/plain": [
       "55"
      ]
     },
     "execution_count": 30,
     "metadata": {},
     "output_type": "execute_result"
    }
   ],
   "source": [
    "def add_numbers_recursion(n):\n",
    "    if n > 0:\n",
    "        i = n + add_numbers_recursion(n-1)\n",
    "    else:\n",
    "        return 0\n",
    "    return i\n",
    "        return result\n",
    "    \n",
    "add_numbers_recursion(10, 0)"
   ]
  },
  {
   "cell_type": "code",
   "execution_count": null,
   "id": "4275d706",
   "metadata": {},
   "outputs": [],
   "source": [
    "# Another way of writing recursion to sum n values.\n",
    "def add_numbers_recursion(n, result):\n",
    "    if n > 0:\n",
    "        return add_numbers_recursion(n-1, result + n)\n",
    "    else:\n",
    "        return result\n",
    "\n",
    "add_numbers_recursion(10, 0)"
   ]
  }
 ],
 "metadata": {
  "kernelspec": {
   "display_name": "Python 3 (ipykernel)",
   "language": "python",
   "name": "python3"
  },
  "language_info": {
   "codemirror_mode": {
    "name": "ipython",
    "version": 3
   },
   "file_extension": ".py",
   "mimetype": "text/x-python",
   "name": "python",
   "nbconvert_exporter": "python",
   "pygments_lexer": "ipython3",
   "version": "3.9.12"
  }
 },
 "nbformat": 4,
 "nbformat_minor": 5
}
