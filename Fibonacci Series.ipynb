{
 "cells": [
  {
   "cell_type": "code",
   "execution_count": 32,
   "id": "e0f9b516",
   "metadata": {},
   "outputs": [
    {
     "name": "stdout",
     "output_type": "stream",
     "text": [
      "1\n",
      "2\n",
      "3\n",
      "5\n",
      "8\n",
      "13\n",
      "21\n",
      "34\n"
     ]
    },
    {
     "data": {
      "text/plain": [
       "'This is a fibonacci series.'"
      ]
     },
     "execution_count": 32,
     "metadata": {},
     "output_type": "execute_result"
    }
   ],
   "source": [
    "def fibonacci(input_list):\n",
    "    assert input_list != None and len(input_list) >=3, \"insufficient inputs.\"\n",
    "    for i in range(0, len(input_list)):\n",
    "        if (i+2) < len(input_list):\n",
    "            if input_list[i+2] == input_list[i]+input_list[i+1]:\n",
    "                print(input_list[i]+input_list[i+1])\n",
    "                continue\n",
    "            else:\n",
    "                return \"Not a Fibonacci series!.\"\n",
    "    return \"This is a fibonacci series.\"\n",
    "\n",
    "fibonacci([0,1,1,2,3,5,8, 13, 21, 34])"
   ]
  },
  {
   "cell_type": "code",
   "execution_count": 59,
   "id": "22891476",
   "metadata": {},
   "outputs": [
    {
     "data": {
      "text/plain": [
       "[0, 1, 1, 2, 3, 5, 8, 13, 21]"
      ]
     },
     "execution_count": 59,
     "metadata": {},
     "output_type": "execute_result"
    }
   ],
   "source": [
    "def gen_fibonacci_series(n):\n",
    "    assert int(n)==n, \"Enter a valid integer and greater than 0 value.\"\n",
    "    if n == 0:\n",
    "        return 0\n",
    "    elif n == 1 or n ==2:\n",
    "        return 1\n",
    "    else:\n",
    "        return gen_fibonacci_series(n-1)+gen_fibonacci_series(n-2)\n",
    "\n",
    "def feb_series(n):\n",
    "    result = []\n",
    "    assert n>0, \"Enter valid input value greater than 0.\"\n",
    "    for i in range(n):\n",
    "        result.append(gen_fibonacci_series(i))\n",
    "    return result\n",
    "    \n",
    "feb_series(9)"
   ]
  },
  {
   "cell_type": "code",
   "execution_count": 60,
   "id": "0d03ccae",
   "metadata": {},
   "outputs": [
    {
     "name": "stdout",
     "output_type": "stream",
     "text": [
      "34\n"
     ]
    },
    {
     "data": {
      "text/plain": [
       "[0, 1, 1, 2, 3, 5, 8, 13, 21]"
      ]
     },
     "execution_count": 60,
     "metadata": {},
     "output_type": "execute_result"
    }
   ],
   "source": [
    "def Fibonacci(n, result = []):\n",
    "    if n < 0:\n",
    "        print(\"Incorrect input\")\n",
    "    elif n == 0:\n",
    "        return 0\n",
    "    elif n == 1 or n == 2:\n",
    "        return 1\n",
    "    else:\n",
    "        return Fibonacci(n-1) + Fibonacci(n-2)\n",
    "        result.append(Fibonacci(n-1) + Fibonacci(n-2))\n",
    "    print(result)\n",
    " \n",
    "# Driver Program\n",
    "print(Fibonacci(9))\n",
    "[Fibonacci(n) for n in range(9)]\n",
    " "
   ]
  }
 ],
 "metadata": {
  "kernelspec": {
   "display_name": "Python 3 (ipykernel)",
   "language": "python",
   "name": "python3"
  },
  "language_info": {
   "codemirror_mode": {
    "name": "ipython",
    "version": 3
   },
   "file_extension": ".py",
   "mimetype": "text/x-python",
   "name": "python",
   "nbconvert_exporter": "python",
   "pygments_lexer": "ipython3",
   "version": "3.9.12"
  }
 },
 "nbformat": 4,
 "nbformat_minor": 5
}
