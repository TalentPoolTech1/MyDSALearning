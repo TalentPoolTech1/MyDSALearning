{
 "cells": [
  {
   "cell_type": "code",
   "execution_count": 1,
   "id": "1c6bf029",
   "metadata": {},
   "outputs": [],
   "source": [
    "from pyspark.sql import SparkSession"
   ]
  },
  {
   "cell_type": "code",
   "execution_count": 2,
   "id": "82be3ba8",
   "metadata": {},
   "outputs": [],
   "source": [
    "SS = SparkSession.builder.appName('Test').master('local[1]').getOrCreate()"
   ]
  },
  {
   "cell_type": "code",
   "execution_count": 3,
   "id": "a3bb43cd",
   "metadata": {},
   "outputs": [],
   "source": [
    "df = SS.read.csv(\"C:\\\\Users\\Venkateswarlu.A\\\\Downloads\\\\NewYorkTaxiData\\\\yellow_tripdata_2015-01.csv\",inferSchema=True, header=True)"
   ]
  },
  {
   "cell_type": "code",
   "execution_count": 4,
   "id": "e1d1ff6e",
   "metadata": {},
   "outputs": [
    {
     "name": "stdout",
     "output_type": "stream",
     "text": [
      "StructType([StructField('VendorID', IntegerType(), True), StructField('tpep_pickup_datetime', TimestampType(), True), StructField('tpep_dropoff_datetime', TimestampType(), True), StructField('passenger_count', IntegerType(), True), StructField('trip_distance', DoubleType(), True), StructField('pickup_longitude', DoubleType(), True), StructField('pickup_latitude', DoubleType(), True), StructField('RateCodeID', IntegerType(), True), StructField('store_and_fwd_flag', StringType(), True), StructField('dropoff_longitude', DoubleType(), True), StructField('dropoff_latitude', DoubleType(), True), StructField('payment_type', IntegerType(), True), StructField('fare_amount', DoubleType(), True), StructField('extra', DoubleType(), True), StructField('mta_tax', DoubleType(), True), StructField('tip_amount', DoubleType(), True), StructField('tolls_amount', DoubleType(), True), StructField('improvement_surcharge', DoubleType(), True), StructField('total_amount', DoubleType(), True)])\n",
      "[Row(VendorID=2, tpep_pickup_datetime=datetime.datetime(2015, 1, 15, 19, 5, 39), tpep_dropoff_datetime=datetime.datetime(2015, 1, 15, 19, 23, 42), passenger_count=1, trip_distance=1.59, pickup_longitude=-73.993896484375, pickup_latitude=40.7501106262207, RateCodeID=1, store_and_fwd_flag='N', dropoff_longitude=-73.97478485107422, dropoff_latitude=40.75061798095703, payment_type=1, fare_amount=12.0, extra=1.0, mta_tax=0.5, tip_amount=3.25, tolls_amount=0.0, improvement_surcharge=0.3, total_amount=17.05), Row(VendorID=1, tpep_pickup_datetime=datetime.datetime(2015, 1, 10, 20, 33, 38), tpep_dropoff_datetime=datetime.datetime(2015, 1, 10, 20, 53, 28), passenger_count=1, trip_distance=3.3, pickup_longitude=-74.00164794921875, pickup_latitude=40.7242431640625, RateCodeID=1, store_and_fwd_flag='N', dropoff_longitude=-73.99441528320312, dropoff_latitude=40.75910949707031, payment_type=1, fare_amount=14.5, extra=0.5, mta_tax=0.5, tip_amount=2.0, tolls_amount=0.0, improvement_surcharge=0.3, total_amount=17.8), Row(VendorID=1, tpep_pickup_datetime=datetime.datetime(2015, 1, 10, 20, 33, 38), tpep_dropoff_datetime=datetime.datetime(2015, 1, 10, 20, 43, 41), passenger_count=1, trip_distance=1.8, pickup_longitude=-73.96334075927734, pickup_latitude=40.80278778076172, RateCodeID=1, store_and_fwd_flag='N', dropoff_longitude=-73.95182037353516, dropoff_latitude=40.82441329956055, payment_type=2, fare_amount=9.5, extra=0.5, mta_tax=0.5, tip_amount=0.0, tolls_amount=0.0, improvement_surcharge=0.3, total_amount=10.8), Row(VendorID=1, tpep_pickup_datetime=datetime.datetime(2015, 1, 10, 20, 33, 39), tpep_dropoff_datetime=datetime.datetime(2015, 1, 10, 20, 35, 31), passenger_count=1, trip_distance=0.5, pickup_longitude=-74.00908660888672, pickup_latitude=40.71381759643555, RateCodeID=1, store_and_fwd_flag='N', dropoff_longitude=-74.00432586669922, dropoff_latitude=40.71998596191406, payment_type=2, fare_amount=3.5, extra=0.5, mta_tax=0.5, tip_amount=0.0, tolls_amount=0.0, improvement_surcharge=0.3, total_amount=4.8), Row(VendorID=1, tpep_pickup_datetime=datetime.datetime(2015, 1, 10, 20, 33, 39), tpep_dropoff_datetime=datetime.datetime(2015, 1, 10, 20, 52, 58), passenger_count=1, trip_distance=3.0, pickup_longitude=-73.97117614746094, pickup_latitude=40.762428283691406, RateCodeID=1, store_and_fwd_flag='N', dropoff_longitude=-74.00418090820312, dropoff_latitude=40.742652893066406, payment_type=2, fare_amount=15.0, extra=0.5, mta_tax=0.5, tip_amount=0.0, tolls_amount=0.0, improvement_surcharge=0.3, total_amount=16.3)]\n"
     ]
    }
   ],
   "source": [
    "print(df.schema)\n",
    "print(df.take(5))"
   ]
  },
  {
   "cell_type": "code",
   "execution_count": 5,
   "id": "57ff4a1a",
   "metadata": {},
   "outputs": [],
   "source": [
    "from pyspark.sql.functions import to_date\n",
    "from pyspark.sql.functions import date_format, year, month, col\n",
    "df = df.withColumn(\"pickup_month\", month (col(\"tpep_pickup_datetime\")))"
   ]
  },
  {
   "cell_type": "code",
   "execution_count": 6,
   "id": "1d75ae59",
   "metadata": {},
   "outputs": [
    {
     "name": "stdout",
     "output_type": "stream",
     "text": [
      "StructType([StructField('VendorID', IntegerType(), True), StructField('tpep_pickup_datetime', TimestampType(), True), StructField('tpep_dropoff_datetime', TimestampType(), True), StructField('passenger_count', IntegerType(), True), StructField('trip_distance', DoubleType(), True), StructField('pickup_longitude', DoubleType(), True), StructField('pickup_latitude', DoubleType(), True), StructField('RateCodeID', IntegerType(), True), StructField('store_and_fwd_flag', StringType(), True), StructField('dropoff_longitude', DoubleType(), True), StructField('dropoff_latitude', DoubleType(), True), StructField('payment_type', IntegerType(), True), StructField('fare_amount', DoubleType(), True), StructField('extra', DoubleType(), True), StructField('mta_tax', DoubleType(), True), StructField('tip_amount', DoubleType(), True), StructField('tolls_amount', DoubleType(), True), StructField('improvement_surcharge', DoubleType(), True), StructField('total_amount', DoubleType(), True), StructField('pickup_month', IntegerType(), True)])\n"
     ]
    }
   ],
   "source": [
    "print(df.schema)\n",
    "df.write.mode('append').option(\"header\",True).partitionBy(\"pickup_month\").format(\"csv\").save(\"C:\\\\Users\\Venkateswarlu.A\\\\Downloads\\\\NewYorkTaxiData\\\\PARTITIONED_DATA\\\\\")"
   ]
  },
  {
   "cell_type": "code",
   "execution_count": 1,
   "id": "9217d9f7",
   "metadata": {},
   "outputs": [
    {
     "name": "stdout",
     "output_type": "stream",
     "text": [
      "+--------+--------------------+---------------------+---------------+-------------+------------------+------------------+----------+------------------+------------------+------------------+------------+-----------+-----+-------+----------+------------+---------------------+------------+---------+\n",
      "|VendorID|tpep_pickup_datetime|tpep_dropoff_datetime|passenger_count|trip_distance|  pickup_longitude|   pickup_latitude|RatecodeID|store_and_fwd_flag| dropoff_longitude|  dropoff_latitude|payment_type|fare_amount|extra|mta_tax|tip_amount|tolls_amount|improvement_surcharge|total_amount|part_year|\n",
      "+--------+--------------------+---------------------+---------------+-------------+------------------+------------------+----------+------------------+------------------+------------------+------------+-----------+-----+-------+----------+------------+---------------------+------------+---------+\n",
      "|       1| 2016-03-01 00:00:00|  2016-03-01 00:07:55|              1|          2.5|-73.97674560546875| 40.76515197753906|         1|                 N|-74.00426483154297| 40.74612808227539|           1|        9.0|  0.5|    0.5|      2.05|         0.0|                  0.3|       12.35|     2016|\n",
      "|       1| 2016-03-01 00:00:00|  2016-03-01 00:11:06|              1|          2.9|-73.98348236083984| 40.76792526245117|         1|                 N|-74.00594329833984|  40.7331657409668|           1|       11.0|  0.5|    0.5|      3.05|         0.0|                  0.3|       15.35|     2016|\n",
      "|       2| 2016-03-01 00:00:00|  2016-03-01 00:31:06|              2|        19.98|-73.78202056884766| 40.64480972290039|         1|                 N|-73.97454071044922|  40.6757698059082|           1|       54.5|  0.5|    0.5|       8.0|         0.0|                  0.3|        63.8|     2016|\n",
      "|       2| 2016-03-01 00:00:00|  2016-03-01 00:00:00|              3|        10.78|-73.86341857910156|40.769813537597656|         1|                 N|-73.96965026855469| 40.75776672363281|           1|       31.5|  0.0|    0.5|      3.78|        5.54|                  0.3|       41.62|     2016|\n",
      "|       2| 2016-03-01 00:00:00|  2016-03-01 00:00:00|              5|        30.43|-73.97174072265625| 40.79218292236328|         3|                 N|-74.17716979980469| 40.69505310058594|           1|       98.0|  0.0|    0.0|       0.0|        15.5|                  0.3|       113.8|     2016|\n",
      "|       2| 2016-03-01 00:00:00|  2016-03-01 00:00:00|              5|         5.92|-74.01719665527344| 40.70538330078125|         1|                 N|-73.97807312011719| 40.75578689575195|           1|       23.5|  1.0|    0.5|      5.06|         0.0|                  0.3|       30.36|     2016|\n",
      "|       2| 2016-03-01 00:00:00|  2016-03-01 00:00:00|              6|         5.72|-73.99458312988281|40.727848052978516|         1|                 N|               0.0|               0.0|           2|       23.0|  0.5|    0.5|       0.0|         0.0|                  0.3|        24.3|     2016|\n",
      "|       1| 2016-03-01 00:00:01|  2016-03-01 00:16:04|              1|          6.2|-73.78877258300781| 40.64775848388672|         1|                 N|-73.82920837402344|40.712345123291016|           3|       20.5|  0.5|    0.5|       0.0|         0.0|                  0.3|        21.8|     2016|\n",
      "|       1| 2016-03-01 00:00:01|  2016-03-01 00:05:00|              1|          0.7|-73.95822143554688| 40.76464080810547|         1|                 N| -73.9678955078125|40.762901306152344|           1|        5.5|  0.5|    0.5|       2.0|         0.0|                  0.3|         8.8|     2016|\n",
      "|       2| 2016-03-01 00:00:01|  2016-03-01 00:24:06|              3|         7.18|-73.98577880859375| 40.74119186401367|         1|                 N|-73.94635009765625| 40.79787826538086|           1|       23.5|  0.5|    0.5|       3.2|         0.0|                  0.3|        28.0|     2016|\n",
      "|       2| 2016-03-01 00:00:01|  2016-03-01 00:02:03|              2|         0.54| -73.9884262084961|    40.76416015625|         1|                 N|-73.99239349365234| 40.75822448730469|           2|        4.0|  0.5|    0.5|       0.0|         0.0|                  0.3|         5.3|     2016|\n",
      "|       1| 2016-03-01 00:00:02|  2016-03-01 00:07:49|              1|          1.7|-73.96981811523438|40.797428131103516|         1|                 N|-73.94377136230469|40.796199798583984|           2|        8.0|  0.5|    0.5|       0.0|         0.0|                  0.3|         9.3|     2016|\n",
      "|       1| 2016-03-01 00:00:02|  2016-03-01 00:03:05|              1|          1.1|-73.95380401611328| 40.78812789916992|         1|                 N|-73.97154998779297| 40.79523849487305|           1|        5.5|  0.5|    0.5|       2.2|         0.0|                  0.3|         9.0|     2016|\n",
      "|       2| 2016-03-01 00:00:02|  2016-03-01 00:09:32|              1|          2.1|-73.97608947753906| 40.75217056274414|         1|                 N| -73.9874496459961|40.770782470703125|           1|        9.0|  0.5|    0.5|      2.06|         0.0|                  0.3|       12.36|     2016|\n",
      "|       2| 2016-03-01 00:00:02|  2016-03-01 00:24:11|              1|         8.54|-74.00206756591797|40.719120025634766|         1|                 N|-73.95211791992188|40.811241149902344|           1|       27.0|  0.5|    0.5|      5.66|         0.0|                  0.3|       33.96|     2016|\n",
      "|       2| 2016-03-01 00:00:02|  2016-03-01 00:08:24|              1|          2.0|-74.00672912597656|40.730716705322266|         1|                 N|-74.01704406738281| 40.70936584472656|           1|        8.5|  0.5|    0.5|       2.0|         0.0|                  0.3|        11.8|     2016|\n",
      "|       1| 2016-03-01 00:00:03|  2016-03-01 00:09:23|              1|          3.2| -74.0066146850586| 40.71662139892578|         1|                 N|-73.99010467529297| 40.75605010986328|           2|       11.0|  0.5|    0.5|       0.0|         0.0|                  0.3|        12.3|     2016|\n",
      "|       2| 2016-03-01 00:00:03|  2016-03-01 00:08:34|              1|         1.59|-73.98226928710938|  40.7706184387207|         1|                 N|-73.96874237060547| 40.75503921508789|           1|        8.0|  0.5|    0.5|      1.86|         0.0|                  0.3|       11.16|     2016|\n",
      "|       2| 2016-03-01 00:00:03|  2016-03-01 00:32:45|              3|        16.81|-73.79238891601562|  40.6450309753418|         2|                 N|-73.98628997802734| 40.75851821899414|           1|       52.0|  0.0|    0.5|       8.0|        5.54|                  0.3|       66.34|     2016|\n",
      "|       1| 2016-03-01 00:00:04|  2016-03-01 00:03:30|              2|          0.5| -73.9837875366211| 40.73189163208008|         1|                 N|-73.97581481933594|40.728519439697266|           1|        4.5|  0.5|    0.5|      1.15|         0.0|                  0.3|        6.95|     2016|\n",
      "+--------+--------------------+---------------------+---------------+-------------+------------------+------------------+----------+------------------+------------------+------------------+------------+-----------+-----+-------+----------+------------+---------------------+------------+---------+\n",
      "only showing top 20 rows\n",
      "\n",
      "None\n",
      "+--------+--------------------+---------------------+---------------+-------------+------------------+------------------+----------+------------------+------------------+------------------+------------+-----------+-----+-------+----------+------------+---------------------+------------+---------+----------+\n",
      "|VendorID|tpep_pickup_datetime|tpep_dropoff_datetime|passenger_count|trip_distance|  pickup_longitude|   pickup_latitude|RatecodeID|store_and_fwd_flag| dropoff_longitude|  dropoff_latitude|payment_type|fare_amount|extra|mta_tax|tip_amount|tolls_amount|improvement_surcharge|total_amount|part_year|part_month|\n",
      "+--------+--------------------+---------------------+---------------+-------------+------------------+------------------+----------+------------------+------------------+------------------+------------+-----------+-----+-------+----------+------------+---------------------+------------+---------+----------+\n",
      "|       1| 2016-03-01 00:00:00|  2016-03-01 00:07:55|              1|          2.5|-73.97674560546875| 40.76515197753906|         1|                 N|-74.00426483154297| 40.74612808227539|           1|        9.0|  0.5|    0.5|      2.05|         0.0|                  0.3|       12.35|     2016|         3|\n",
      "|       1| 2016-03-01 00:00:00|  2016-03-01 00:11:06|              1|          2.9|-73.98348236083984| 40.76792526245117|         1|                 N|-74.00594329833984|  40.7331657409668|           1|       11.0|  0.5|    0.5|      3.05|         0.0|                  0.3|       15.35|     2016|         3|\n",
      "|       2| 2016-03-01 00:00:00|  2016-03-01 00:31:06|              2|        19.98|-73.78202056884766| 40.64480972290039|         1|                 N|-73.97454071044922|  40.6757698059082|           1|       54.5|  0.5|    0.5|       8.0|         0.0|                  0.3|        63.8|     2016|         3|\n",
      "|       2| 2016-03-01 00:00:00|  2016-03-01 00:00:00|              3|        10.78|-73.86341857910156|40.769813537597656|         1|                 N|-73.96965026855469| 40.75776672363281|           1|       31.5|  0.0|    0.5|      3.78|        5.54|                  0.3|       41.62|     2016|         3|\n",
      "|       2| 2016-03-01 00:00:00|  2016-03-01 00:00:00|              5|        30.43|-73.97174072265625| 40.79218292236328|         3|                 N|-74.17716979980469| 40.69505310058594|           1|       98.0|  0.0|    0.0|       0.0|        15.5|                  0.3|       113.8|     2016|         3|\n",
      "|       2| 2016-03-01 00:00:00|  2016-03-01 00:00:00|              5|         5.92|-74.01719665527344| 40.70538330078125|         1|                 N|-73.97807312011719| 40.75578689575195|           1|       23.5|  1.0|    0.5|      5.06|         0.0|                  0.3|       30.36|     2016|         3|\n",
      "|       2| 2016-03-01 00:00:00|  2016-03-01 00:00:00|              6|         5.72|-73.99458312988281|40.727848052978516|         1|                 N|               0.0|               0.0|           2|       23.0|  0.5|    0.5|       0.0|         0.0|                  0.3|        24.3|     2016|         3|\n",
      "|       1| 2016-03-01 00:00:01|  2016-03-01 00:16:04|              1|          6.2|-73.78877258300781| 40.64775848388672|         1|                 N|-73.82920837402344|40.712345123291016|           3|       20.5|  0.5|    0.5|       0.0|         0.0|                  0.3|        21.8|     2016|         3|\n",
      "|       1| 2016-03-01 00:00:01|  2016-03-01 00:05:00|              1|          0.7|-73.95822143554688| 40.76464080810547|         1|                 N| -73.9678955078125|40.762901306152344|           1|        5.5|  0.5|    0.5|       2.0|         0.0|                  0.3|         8.8|     2016|         3|\n",
      "|       2| 2016-03-01 00:00:01|  2016-03-01 00:24:06|              3|         7.18|-73.98577880859375| 40.74119186401367|         1|                 N|-73.94635009765625| 40.79787826538086|           1|       23.5|  0.5|    0.5|       3.2|         0.0|                  0.3|        28.0|     2016|         3|\n",
      "|       2| 2016-03-01 00:00:01|  2016-03-01 00:02:03|              2|         0.54| -73.9884262084961|    40.76416015625|         1|                 N|-73.99239349365234| 40.75822448730469|           2|        4.0|  0.5|    0.5|       0.0|         0.0|                  0.3|         5.3|     2016|         3|\n",
      "|       1| 2016-03-01 00:00:02|  2016-03-01 00:07:49|              1|          1.7|-73.96981811523438|40.797428131103516|         1|                 N|-73.94377136230469|40.796199798583984|           2|        8.0|  0.5|    0.5|       0.0|         0.0|                  0.3|         9.3|     2016|         3|\n",
      "|       1| 2016-03-01 00:00:02|  2016-03-01 00:03:05|              1|          1.1|-73.95380401611328| 40.78812789916992|         1|                 N|-73.97154998779297| 40.79523849487305|           1|        5.5|  0.5|    0.5|       2.2|         0.0|                  0.3|         9.0|     2016|         3|\n",
      "|       2| 2016-03-01 00:00:02|  2016-03-01 00:09:32|              1|          2.1|-73.97608947753906| 40.75217056274414|         1|                 N| -73.9874496459961|40.770782470703125|           1|        9.0|  0.5|    0.5|      2.06|         0.0|                  0.3|       12.36|     2016|         3|\n",
      "|       2| 2016-03-01 00:00:02|  2016-03-01 00:24:11|              1|         8.54|-74.00206756591797|40.719120025634766|         1|                 N|-73.95211791992188|40.811241149902344|           1|       27.0|  0.5|    0.5|      5.66|         0.0|                  0.3|       33.96|     2016|         3|\n",
      "|       2| 2016-03-01 00:00:02|  2016-03-01 00:08:24|              1|          2.0|-74.00672912597656|40.730716705322266|         1|                 N|-74.01704406738281| 40.70936584472656|           1|        8.5|  0.5|    0.5|       2.0|         0.0|                  0.3|        11.8|     2016|         3|\n",
      "|       1| 2016-03-01 00:00:03|  2016-03-01 00:09:23|              1|          3.2| -74.0066146850586| 40.71662139892578|         1|                 N|-73.99010467529297| 40.75605010986328|           2|       11.0|  0.5|    0.5|       0.0|         0.0|                  0.3|        12.3|     2016|         3|\n",
      "|       2| 2016-03-01 00:00:03|  2016-03-01 00:08:34|              1|         1.59|-73.98226928710938|  40.7706184387207|         1|                 N|-73.96874237060547| 40.75503921508789|           1|        8.0|  0.5|    0.5|      1.86|         0.0|                  0.3|       11.16|     2016|         3|\n",
      "|       2| 2016-03-01 00:00:03|  2016-03-01 00:32:45|              3|        16.81|-73.79238891601562|  40.6450309753418|         2|                 N|-73.98628997802734| 40.75851821899414|           1|       52.0|  0.0|    0.5|       8.0|        5.54|                  0.3|       66.34|     2016|         3|\n",
      "|       1| 2016-03-01 00:00:04|  2016-03-01 00:03:30|              2|          0.5| -73.9837875366211| 40.73189163208008|         1|                 N|-73.97581481933594|40.728519439697266|           1|        4.5|  0.5|    0.5|      1.15|         0.0|                  0.3|        6.95|     2016|         3|\n",
      "+--------+--------------------+---------------------+---------------+-------------+------------------+------------------+----------+------------------+------------------+------------------+------------+-----------+-----+-------+----------+------------+---------------------+------------+---------+----------+\n",
      "only showing top 20 rows\n",
      "\n",
      "None\n",
      "['part_year', 'part_month']\n",
      "Entering to partition data now.\n"
     ]
    }
   ],
   "source": [
    "from pyspark.sql import SparkSession\n",
    "from pyspark.sql.functions import year, month, col, dayofmonth\n",
    "SS = SparkSession.builder.appName('Test').master('local[1]').getOrCreate()\n",
    "def partLoad (input_file, storage_path, part_column, part_by_values, is_date_column):\n",
    "    part_renamed_cols = list([])\n",
    "    if isinstance(part_column,list):\n",
    "        print(\"Enter Single Column for partitioning for now!\")\n",
    "    else:\n",
    "        if is_date_column == 'Yes':\n",
    "            if isinstance(part_by_values,list) and  not set(part_by_values).issubset([\"year\",\"month\",\"day\"]):\n",
    "                print(\"input type of part_by_values is \" + str(type(part_by_values)))\n",
    "                print(part_by_values)\n",
    "                print(\"Enter year, month or day in the part_by_values parameter.\")\n",
    "            else:\n",
    "                df = SS.read.csv(input_file, inferSchema=True, header=True)\n",
    "                for col_name in part_by_values:\n",
    "                    part_col_name = 'part_'+col_name\n",
    "                    if col_name == \"year\":\n",
    "                        df = df.withColumn(part_col_name, year(col(part_column)))\n",
    "                        part_renamed_cols.append(part_col_name)\n",
    "                        print(df.show())\n",
    "                    elif col_name == \"month\":\n",
    "                        df = df.withColumn(part_col_name, month(col(part_column)))\n",
    "                        part_renamed_cols.append(part_col_name)\n",
    "                        print(df.show())\n",
    "                    else:\n",
    "                        df = df.withColumn(part_col_name, dayofmonth(col(part_column)))\n",
    "                        part_renamed_cols.append(part_col_name)\n",
    "                print(part_renamed_cols)\n",
    "                print('Entering to partition data now.')\n",
    "                df.write.mode('append').option(\"header\", True).partitionBy(part_renamed_cols).format(\"csv\").save(storage_path)\n",
    "\n",
    "partLoad(\"C:\\\\Users\\Venkateswarlu.A\\\\Downloads\\\\NewYorkTaxiData\\\\yellow_tripdata_2016-03.csv\",\n",
    "          \"C:\\\\Users\\Venkateswarlu.A\\\\Downloads\\\\NewYorkTaxiData\\\\PARTITIONED_DATA\\\\\",\n",
    "          \"tpep_pickup_datetime\",\n",
    "          [\"year\",\"month\"],\n",
    "          \"Yes\")"
   ]
  },
  {
   "cell_type": "code",
   "execution_count": null,
   "id": "af56c8ab",
   "metadata": {},
   "outputs": [],
   "source": []
  }
 ],
 "metadata": {
  "kernelspec": {
   "display_name": "Python 3 (ipykernel)",
   "language": "python",
   "name": "python3"
  },
  "language_info": {
   "codemirror_mode": {
    "name": "ipython",
    "version": 3
   },
   "file_extension": ".py",
   "mimetype": "text/x-python",
   "name": "python",
   "nbconvert_exporter": "python",
   "pygments_lexer": "ipython3",
   "version": "3.9.12"
  }
 },
 "nbformat": 4,
 "nbformat_minor": 5
}
