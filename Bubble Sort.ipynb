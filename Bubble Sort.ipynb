{
 "cells": [
  {
   "cell_type": "code",
   "execution_count": 9,
   "id": "bdfd689e",
   "metadata": {},
   "outputs": [
    {
     "name": "stdout",
     "output_type": "stream",
     "text": [
      "inner list [2, 19, 31, 45, 6, 11, 121, 27]\n",
      "inner list [2, 19, 31, 6, 45, 11, 121, 27]\n",
      "inner list [2, 19, 31, 6, 11, 45, 121, 27]\n",
      "inner list [2, 19, 31, 6, 11, 45, 27, 121]\n",
      "outer list [2, 19, 31, 6, 11, 45, 27, 121]\n",
      "inner list [2, 19, 6, 31, 11, 45, 27, 121]\n",
      "inner list [2, 19, 6, 11, 31, 45, 27, 121]\n",
      "inner list [2, 19, 6, 11, 31, 27, 45, 121]\n",
      "outer list [2, 19, 6, 11, 31, 27, 45, 121]\n",
      "inner list [2, 6, 19, 11, 31, 27, 45, 121]\n",
      "inner list [2, 6, 11, 19, 31, 27, 45, 121]\n",
      "inner list [2, 6, 11, 19, 27, 31, 45, 121]\n",
      "outer list [2, 6, 11, 19, 27, 31, 45, 121]\n",
      "outer list [2, 6, 11, 19, 27, 31, 45, 121]\n",
      "outer list [2, 6, 11, 19, 27, 31, 45, 121]\n",
      "outer list [2, 6, 11, 19, 27, 31, 45, 121]\n",
      "outer list [2, 6, 11, 19, 27, 31, 45, 121]\n",
      "[2, 6, 11, 19, 27, 31, 45, 121]\n"
     ]
    }
   ],
   "source": [
    "def bubblesort(list):\n",
    "\n",
    "# Swap the elements to arrange in order\n",
    "   for iter_num in range(len(list)-1,0,-1):\n",
    "      for idx in range(iter_num):\n",
    "         if list[idx]>list[idx+1]:\n",
    "            temp = list[idx]\n",
    "            list[idx] = list[idx+1]\n",
    "            list[idx+1] = temp\n",
    "            print(\"inner list\", list)\n",
    "      print(\"outer list\", list)\n",
    "list = [19,2,31,45,6,11,121,27]\n",
    "bubblesort(list)\n",
    "print(list)"
   ]
  },
  {
   "cell_type": "code",
   "execution_count": null,
   "id": "d80b2202",
   "metadata": {},
   "outputs": [],
   "source": []
  }
 ],
 "metadata": {
  "kernelspec": {
   "display_name": "Python 3 (ipykernel)",
   "language": "python",
   "name": "python3"
  },
  "language_info": {
   "codemirror_mode": {
    "name": "ipython",
    "version": 3
   },
   "file_extension": ".py",
   "mimetype": "text/x-python",
   "name": "python",
   "nbconvert_exporter": "python",
   "pygments_lexer": "ipython3",
   "version": "3.9.12"
  }
 },
 "nbformat": 4,
 "nbformat_minor": 5
}
