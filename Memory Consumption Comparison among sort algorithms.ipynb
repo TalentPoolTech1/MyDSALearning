{
 "cells": [
  {
   "cell_type": "code",
   "execution_count": 1,
   "id": "6c6d2cd5",
   "metadata": {},
   "outputs": [],
   "source": [
    "#pip install memory_profilder #Incase if you do not have the memory profiler installed, please run this command to install.\n",
    "from memory_profiler import profile\n",
    "from time import process_time\n",
    "import tracemalloc\n",
    "import random\n",
    "input_list = random.sample(range(1, 1000000), 10000)\n",
    "#print(input_list)"
   ]
  },
  {
   "cell_type": "code",
   "execution_count": null,
   "id": "f4645d9b",
   "metadata": {},
   "outputs": [],
   "source": [
    "import tracemalloc\n",
    " \n",
    "# code or function for which memory\n",
    "# has to be monitored\n",
    "\n",
    "def selection_sorting(input_list):\n",
    "    input_list_length = len(input_list)\n",
    "    for main_index_val in range(input_list_length):\n",
    "        min_val_pos = main_index_val\n",
    "        for sub_index_val in range(main_index_val+1, input_list_length):\n",
    "            if input_list[min_val_pos] >= input_list[sub_index_val]:\n",
    "                min_val_pos = sub_index_val\n",
    "        (input_list[main_index_val], input_list[min_val_pos]) = (input_list[min_val_pos], input_list[main_index_val])\n",
    "        #print(input_list)\n",
    "    return input_list\n",
    " \n",
    "# starting the monitoring\n",
    "tracemalloc.start()\n",
    " \n",
    "# function call\n",
    "start_tm = process_time()\n",
    "selection_sorting(input_list)\n",
    "end_tm = process_time()\n",
    "print(\"elapsed time is:\", end_tm, start_tm)\n",
    " \n",
    "# displaying the memory\n",
    "print(tracemalloc.get_traced_memory())\n",
    " \n",
    "# stopping the library\n",
    "tracemalloc.stop()"
   ]
  },
  {
   "cell_type": "code",
   "execution_count": null,
   "id": "ff31bf4d",
   "metadata": {},
   "outputs": [],
   "source": [
    "@profile\n",
    "\n",
    "def selection_sorting(input_list):\n",
    "    input_list_length = len(input_list)\n",
    "    for main_index_val in range(input_list_length):\n",
    "        min_val_pos = main_index_val\n",
    "        for sub_index_val in range(main_index_val+1, input_list_length):\n",
    "            if input_list[min_val_pos] >= input_list[sub_index_val]:\n",
    "                min_val_pos = sub_index_val\n",
    "        (input_list[main_index_val], input_list[min_val_pos]) = (input_list[min_val_pos], input_list[main_index_val])\n",
    "        #print(input_list)\n",
    "    return input_list\n",
    "    #print(input_list)\n",
    "    \n",
    "if __name__ == '__main__':\n",
    "    selection_sorting(input_list)"
   ]
  },
  {
   "cell_type": "code",
   "execution_count": null,
   "id": "617ef404",
   "metadata": {},
   "outputs": [],
   "source": [
    "def bubble_sorting(input_list):\n",
    "    input_list_length = len(input_list)\n",
    "    for outer_index_val in range(input_list_length):\n",
    "        for inner_index_val in range(input_list_length-1):\n",
    "            if input_list[inner_index_val] > input_list[inner_index_val+1]:\n",
    "                (input_list[inner_index_val] , input_list[inner_index_val+1]) = (input_list[inner_index_val+1] , input_list[inner_index_val])\n",
    "    return input_list\n",
    "\n",
    "tracemalloc.start()\n",
    " \n",
    "# function call\n",
    "start_tm = process_time()\n",
    "bubble_sorting(input_list)\n",
    "end_tm = process_time()\n",
    "print(\"elapsed time is:\", end_tm, start_tm)\n",
    " \n",
    "# displaying the memory\n",
    "print(tracemalloc.get_traced_memory())\n",
    " \n",
    "# stopping the library\n",
    "tracemalloc.stop()"
   ]
  },
  {
   "cell_type": "code",
   "execution_count": null,
   "id": "b8afd841",
   "metadata": {},
   "outputs": [],
   "source": [
    "#@profile\n",
    "\n",
    "def bubble_sorting(input_list):\n",
    "    input_list_length = len(input_list)\n",
    "    for outer_index_val in range(input_list_length):\n",
    "        for inner_index_val in range(input_list_length-1):\n",
    "            if input_list[inner_index_val] > input_list[inner_index_val+1]:\n",
    "                (input_list[inner_index_val] , input_list[inner_index_val+1]) = (input_list[inner_index_val+1] , input_list[inner_index_val])\n",
    "    return input_list\n",
    "\n",
    "if __name__ == '__main__':\n",
    "    bubble_sorting(input_list)"
   ]
  },
  {
   "cell_type": "code",
   "execution_count": null,
   "id": "ab964927",
   "metadata": {},
   "outputs": [],
   "source": [
    "def insert_sorting(input_list):\n",
    "    input_list_length = len(input_list)\n",
    "    for outer_index_val in range(input_list_length):\n",
    "        for inner_index_val in range(outer_index_val+1, input_list_length):\n",
    "            if input_list[outer_index_val] > input_list[inner_index_val]:\n",
    "                (input_list[outer_index_val], input_list[inner_index_val]) = (input_list[inner_index_val], input_list[outer_index_val])\n",
    "    return input_list\n",
    "\n",
    "tracemalloc.start()\n",
    " \n",
    "# function call\n",
    "start_tm = process_time()\n",
    "insert_sorting(input_list)\n",
    "end_tm = process_time()\n",
    "print(\"elapsed time is:\", end_tm, start_tm)\n",
    " \n",
    "# displaying the memory\n",
    "print(tracemalloc.get_traced_memory())\n",
    " \n",
    "# stopping the library\n",
    "tracemalloc.stop()"
   ]
  },
  {
   "cell_type": "code",
   "execution_count": null,
   "id": "c8c657a6",
   "metadata": {},
   "outputs": [],
   "source": [
    "@profile\n",
    "\n",
    "def insert_sorting(input_list):\n",
    "    input_list_length = len(input_list)\n",
    "    for outer_index_val in range(input_list_length):\n",
    "        for inner_index_val in range(outer_index_val+1, input_list_length):\n",
    "            if input_list[outer_index_val] > input_list[inner_index_val]:\n",
    "                (input_list[outer_index_val], input_list[inner_index_val]) = (input_list[inner_index_val], input_list[outer_index_val])\n",
    "    return input_list\n",
    "\n",
    "if __name__ == '__main__':\n",
    "    insert_sorting(input_list)"
   ]
  },
  {
   "cell_type": "code",
   "execution_count": null,
   "id": "b887c3a7",
   "metadata": {},
   "outputs": [],
   "source": [
    "def venkat_sort(in_list):\n",
    "    y = []\n",
    "    if len(in_list)>0:\n",
    "        for i in range(len(in_list)):\n",
    "            #print(\"iterating through:\",i)\n",
    "            if  i == 0:\n",
    "                y.append(in_list[i])\n",
    "                #print(\"first element inserted to out list\", y)\n",
    "            else:\n",
    "                for j in range(len(y)):\n",
    "                    #print(\"length of out list is:\", len(y))\n",
    "                    if in_list[i] < y[j]:\n",
    "                        #print(\"{0} is lesss than {1}\".format(in_list[i], y[j]))\n",
    "                        y.insert(j, in_list[i])\n",
    "                        #print(y)\n",
    "                        break\n",
    "                    elif in_list[i] > y[j] and j == len(y)-1:\n",
    "                        #print(\"{0} is greater than {1}, {1} is last element, so appending\".format(in_list[i], y[j]))\n",
    "                        y.append(in_list[i])\n",
    "                        #print(y)\n",
    "                        break\n",
    "        #print(y)\n",
    "    else:\n",
    "        return \"Function needs atleast one value.\"\n",
    "    \n",
    "tracemalloc.start()\n",
    " \n",
    "# function call\n",
    "start_tm = process_time()\n",
    "venkat_sort(input_list)\n",
    "end_tm = process_time()\n",
    "print(\"elapsed time is:\", end_tm, start_tm)\n",
    " \n",
    "# displaying the memory\n",
    "print(tracemalloc.get_traced_memory())\n",
    " \n",
    "# stopping the library\n",
    "tracemalloc.stop()"
   ]
  },
  {
   "cell_type": "code",
   "execution_count": 2,
   "id": "fbca1e9d",
   "metadata": {},
   "outputs": [],
   "source": [
    "def add_numbers_iterative(n):\n",
    "    i = 0\n",
    "    while n > 0:\n",
    "        i += n\n",
    "        n -= 1\n",
    "    return i\n",
    "\n",
    "#add_numbers_iterative(10)"
   ]
  },
  {
   "cell_type": "code",
   "execution_count": 10,
   "id": "01b34acf",
   "metadata": {},
   "outputs": [],
   "source": [
    "def add_numbers_recursion(n, result):\n",
    "    if n > 0:\n",
    "        return add_numbers_recursion(n-1, result + n)\n",
    "    else:\n",
    "        return result\n",
    "    \n",
    "#add_numbers_recursion(10)"
   ]
  },
  {
   "cell_type": "code",
   "execution_count": 16,
   "id": "0b63e8b9",
   "metadata": {},
   "outputs": [
    {
     "name": "stdout",
     "output_type": "stream",
     "text": [
      "elapsed time for iterative method is:0.015625 8.65625 8.640625\n",
      "10861\n"
     ]
    }
   ],
   "source": [
    "tracemalloc.start()\n",
    " \n",
    "# function call\n",
    "start_tm = process_time()\n",
    "add_numbers_iterative(1000)\n",
    "end_tm = process_time()\n",
    "print(\"elapsed time for iterative method is:\" + str(end_tm - start_tm), end_tm, start_tm)\n",
    " \n",
    "# displaying the memory\n",
    "mem_usage = list(tracemalloc.get_traced_memory())\n",
    "print(mem_usage[1] - mem_usage[0])\n",
    " \n",
    "# stopping the library\n",
    "tracemalloc.stop()"
   ]
  },
  {
   "cell_type": "code",
   "execution_count": 15,
   "id": "4c27444c",
   "metadata": {},
   "outputs": [
    {
     "name": "stdout",
     "output_type": "stream",
     "text": [
      "elapsed time for recursive method is:0.015625 8.640625 8.625\n",
      "400492\n"
     ]
    }
   ],
   "source": [
    "tracemalloc.start()\n",
    " \n",
    "# function call\n",
    "start_tm = process_time()\n",
    "add_numbers_recursion(1000, 0)\n",
    "end_tm = process_time()\n",
    "print(\"elapsed time for recursive method is:\" + str(end_tm - start_tm), end_tm, start_tm)\n",
    " \n",
    "# displaying the memory\n",
    "mem_usage = list(tracemalloc.get_traced_memory())\n",
    "print(mem_usage[1] - mem_usage[0])\n",
    " \n",
    "# stopping the library\n",
    "tracemalloc.stop()"
   ]
  }
 ],
 "metadata": {
  "kernelspec": {
   "display_name": "Python 3 (ipykernel)",
   "language": "python",
   "name": "python3"
  },
  "language_info": {
   "codemirror_mode": {
    "name": "ipython",
    "version": 3
   },
   "file_extension": ".py",
   "mimetype": "text/x-python",
   "name": "python",
   "nbconvert_exporter": "python",
   "pygments_lexer": "ipython3",
   "version": "3.9.12"
  }
 },
 "nbformat": 4,
 "nbformat_minor": 5
}
