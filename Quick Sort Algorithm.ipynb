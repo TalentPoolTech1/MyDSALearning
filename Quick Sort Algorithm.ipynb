{
 "cells": [
  {
   "cell_type": "code",
   "execution_count": 14,
   "id": "523f9cef",
   "metadata": {},
   "outputs": [
    {
     "name": "stdout",
     "output_type": "stream",
     "text": [
      "[]\n",
      "[1, 4, 10, 59, 2]\n",
      "[]\n",
      "[4, 10, 59, 2]\n",
      "[2]\n",
      "[10, 59]\n",
      "[]\n",
      "[]\n",
      "[]\n",
      "[59]\n",
      "[]\n",
      "[]\n"
     ]
    },
    {
     "data": {
      "text/plain": [
       "[1, 1, 2, 4, 10, 59]"
      ]
     },
     "execution_count": 14,
     "metadata": {},
     "output_type": "execute_result"
    }
   ],
   "source": [
    "def quick_sort(input_list):\n",
    "    input_list_length = len(input_list)\n",
    "    if input_list:\n",
    "        x = input_list[0]\n",
    "        left_list = [i for i in input_list[1:] if i < x]\n",
    "        print(left_list)\n",
    "        right_list = [i for i in input_list[1:] if i >= x]\n",
    "        print(right_list)\n",
    "        return quick_sort(left_list) + [x] + quick_sort(right_list)\n",
    "    else:\n",
    "        return input_list\n",
    "quick_sort([1,1,4,10, 59, 2])"
   ]
  }
 ],
 "metadata": {
  "kernelspec": {
   "display_name": "Python 3 (ipykernel)",
   "language": "python",
   "name": "python3"
  },
  "language_info": {
   "codemirror_mode": {
    "name": "ipython",
    "version": 3
   },
   "file_extension": ".py",
   "mimetype": "text/x-python",
   "name": "python",
   "nbconvert_exporter": "python",
   "pygments_lexer": "ipython3",
   "version": "3.9.12"
  }
 },
 "nbformat": 4,
 "nbformat_minor": 5
}
