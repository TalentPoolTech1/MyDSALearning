{
 "cells": [
  {
   "cell_type": "code",
   "execution_count": 12,
   "id": "7cd7e234",
   "metadata": {},
   "outputs": [
    {
     "name": "stdout",
     "output_type": "stream",
     "text": [
      "3\n",
      "11\n"
     ]
    }
   ],
   "source": [
    "x = 10\n",
    "y = 20\n",
    "def addition_with_local_variable(x=0, y=0):\n",
    "    return x+y\n",
    "print(addition_with_local_variable(2,1))\n",
    "\n",
    "def addition_with_global_variable(x=0, y=0):\n",
    "    return globals()['x']+y\n",
    "print(addition_with_global_variable(2,1))"
   ]
  }
 ],
 "metadata": {
  "kernelspec": {
   "display_name": "Python 3 (ipykernel)",
   "language": "python",
   "name": "python3"
  },
  "language_info": {
   "codemirror_mode": {
    "name": "ipython",
    "version": 3
   },
   "file_extension": ".py",
   "mimetype": "text/x-python",
   "name": "python",
   "nbconvert_exporter": "python",
   "pygments_lexer": "ipython3",
   "version": "3.9.12"
  }
 },
 "nbformat": 4,
 "nbformat_minor": 5
}
