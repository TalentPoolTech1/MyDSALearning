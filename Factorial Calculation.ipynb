{
 "cells": [
  {
   "cell_type": "code",
   "execution_count": 8,
   "id": "aedbbb7c",
   "metadata": {},
   "outputs": [],
   "source": [
    "import sys\n",
    "sys.setrecursionlimit(1000) # This will prevent the system going to ifinite loop, instead stops when the recursion reaches 1000 iterations."
   ]
  },
  {
   "cell_type": "code",
   "execution_count": null,
   "id": "ee045363",
   "metadata": {},
   "outputs": [],
   "source": [
    "# Factorial using iterative method\n",
    "def factorial_calc_iteration(n):\n",
    "    result = 1\n",
    "    while n >0:\n",
    "        result = result*n\n",
    "        n -= 1\n",
    "    return result\n",
    "\n",
    "factorial_calc(10)"
   ]
  },
  {
   "cell_type": "code",
   "execution_count": 10,
   "id": "4a02a51e",
   "metadata": {},
   "outputs": [
    {
     "data": {
      "text/plain": [
       "362880"
      ]
     },
     "execution_count": 10,
     "metadata": {},
     "output_type": "execute_result"
    }
   ],
   "source": [
    "# Alternative way of writing the code using iteratuve method.\n",
    "def factorial_calc_iteration(n):\n",
    "    result = 1\n",
    "    for i in range(1, n):\n",
    "        result = result * i\n",
    "    return result\n",
    "\n",
    "factorial_calc_iteration(10)"
   ]
  },
  {
   "cell_type": "code",
   "execution_count": 7,
   "id": "479df46f",
   "metadata": {},
   "outputs": [
    {
     "data": {
      "text/plain": [
       "3628800"
      ]
     },
     "execution_count": 7,
     "metadata": {},
     "output_type": "execute_result"
    }
   ],
   "source": [
    "# Factorial using recursive method.\n",
    "def factorial_calc_recursion(n):\n",
    "    if n > 0:\n",
    "        i = n * factorial_calc_recursion(n-1)\n",
    "        return i\n",
    "    else:\n",
    "        return 1\n",
    "        \n",
    "factorial_calc(10)"
   ]
  },
  {
   "cell_type": "code",
   "execution_count": 12,
   "id": "41b11850",
   "metadata": {},
   "outputs": [
    {
     "data": {
      "text/plain": [
       "3628800"
      ]
     },
     "execution_count": 12,
     "metadata": {},
     "output_type": "execute_result"
    }
   ],
   "source": [
    "# yet another way of calculating factorial of a given number.\n",
    "def factorial_calc_recursion(n):\n",
    "    return 1 if n <=1 else n*factorial_calc_recursion(n-1)\n",
    "\n",
    "factorial_calc_recursion(10)"
   ]
  },
  {
   "cell_type": "code",
   "execution_count": 49,
   "id": "7cf88254",
   "metadata": {},
   "outputs": [
    {
     "name": "stdout",
     "output_type": "stream",
     "text": [
      "[2, 3, 4, 5, 6, 7, 8, 9]\n"
     ]
    }
   ],
   "source": [
    "f = lambda x : [x for x in range(1, x) if x >1]\n",
    "#print(factorial_calc_recursion(10))\n",
    "print(f(10))"
   ]
  }
 ],
 "metadata": {
  "kernelspec": {
   "display_name": "Python 3 (ipykernel)",
   "language": "python",
   "name": "python3"
  },
  "language_info": {
   "codemirror_mode": {
    "name": "ipython",
    "version": 3
   },
   "file_extension": ".py",
   "mimetype": "text/x-python",
   "name": "python",
   "nbconvert_exporter": "python",
   "pygments_lexer": "ipython3",
   "version": "3.9.12"
  }
 },
 "nbformat": 4,
 "nbformat_minor": 5
}
