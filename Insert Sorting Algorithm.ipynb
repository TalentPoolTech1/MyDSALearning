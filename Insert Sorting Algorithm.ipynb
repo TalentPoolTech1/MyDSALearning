{
 "cells": [
  {
   "cell_type": "code",
   "execution_count": 120,
   "id": "d65468ab",
   "metadata": {},
   "outputs": [],
   "source": [
    "def venkat_sort(in_list):\n",
    "    y = []\n",
    "    if len(in_list)>0:\n",
    "        for i in range(len(in_list)):\n",
    "            print(\"iterating through:\",i)\n",
    "            if  i == 0:\n",
    "                y.append(in_list[i])\n",
    "                print(\"first element inserted to out list\", y)\n",
    "            else:\n",
    "                for j in range(len(y)):\n",
    "                    print(\"length of out list is:\", len(y))\n",
    "                    if in_list[i] < y[j]:\n",
    "                        print(\"{0} is lesss than {1}\".format(in_list[i], y[j]))\n",
    "                        y.insert(j, in_list[i])\n",
    "                        print(y)\n",
    "                        break\n",
    "                    elif in_list[i] > y[j] and j == len(y)-1:\n",
    "                        print(\"{0} is greater than {1}, {1} is last element, so appending\".format(in_list[i], y[j]))\n",
    "                        y.append(in_list[i])\n",
    "                        print(y)\n",
    "                        break\n",
    "        print(y)\n",
    "    else:\n",
    "        return \"Function needs atleast one value.\"\n",
    "                        \n",
    "    "
   ]
  },
  {
   "cell_type": "code",
   "execution_count": 121,
   "id": "37b9d414",
   "metadata": {},
   "outputs": [
    {
     "name": "stdout",
     "output_type": "stream",
     "text": [
      "iterating through: 0\n",
      "first element inserted to out list [1]\n",
      "iterating through: 1\n",
      "length of out list is: 1\n",
      "2 is greater than 1, 1 is last element, so appending\n",
      "[1, 2]\n",
      "iterating through: 2\n",
      "length of out list is: 2\n",
      "length of out list is: 2\n",
      "13 is greater than 2, 2 is last element, so appending\n",
      "[1, 2, 13]\n",
      "iterating through: 3\n",
      "length of out list is: 3\n",
      "length of out list is: 3\n",
      "1 is lesss than 2\n",
      "[1, 1, 2, 13]\n",
      "iterating through: 4\n",
      "length of out list is: 4\n",
      "length of out list is: 4\n",
      "length of out list is: 4\n",
      "length of out list is: 4\n",
      "6 is lesss than 13\n",
      "[1, 1, 2, 6, 13]\n",
      "iterating through: 5\n",
      "length of out list is: 5\n",
      "length of out list is: 5\n",
      "length of out list is: 5\n",
      "length of out list is: 5\n",
      "4 is lesss than 6\n",
      "[1, 1, 2, 4, 6, 13]\n",
      "iterating through: 6\n",
      "length of out list is: 6\n",
      "length of out list is: 6\n",
      "length of out list is: 6\n",
      "length of out list is: 6\n",
      "length of out list is: 6\n",
      "length of out list is: 6\n",
      "10 is lesss than 13\n",
      "[1, 1, 2, 4, 6, 10, 13]\n",
      "iterating through: 7\n",
      "length of out list is: 7\n",
      "length of out list is: 7\n",
      "length of out list is: 7\n",
      "length of out list is: 7\n",
      "length of out list is: 7\n",
      "5 is lesss than 6\n",
      "[1, 1, 2, 4, 5, 6, 10, 13]\n",
      "[1, 1, 2, 4, 5, 6, 10, 13]\n"
     ]
    },
    {
     "data": {
      "text/plain": [
       "'Function needs atleast one value.'"
      ]
     },
     "execution_count": 121,
     "metadata": {},
     "output_type": "execute_result"
    }
   ],
   "source": [
    "insertion_sort([1,2,13, 1,6,4, 10, 5])\n",
    "insertion_sort([])\n",
    "#print(out_list)"
   ]
  },
  {
   "cell_type": "code",
   "execution_count": 126,
   "id": "7e226df1",
   "metadata": {},
   "outputs": [],
   "source": [
    "def insert_sorting(input_list):\n",
    "    input_list_length = len(input_list)\n",
    "    for outer_index_val in range(input_list_length):\n",
    "        for inner_index_val in range(outer_index_val+1, input_list_length):\n",
    "            if input_list[outer_index_val] > input_list[inner_index_val]:\n",
    "                (input_list[outer_index_val], input_list[inner_index_val]) = (input_list[inner_index_val], input_list[outer_index_val])\n",
    "    return input_list"
   ]
  },
  {
   "cell_type": "code",
   "execution_count": 128,
   "id": "6aad81fb",
   "metadata": {},
   "outputs": [
    {
     "data": {
      "text/plain": [
       "[1, 1, 5, 5, 10, 13, 13, 15]"
      ]
     },
     "execution_count": 128,
     "metadata": {},
     "output_type": "execute_result"
    }
   ],
   "source": [
    "insert_sorting([10, 1,13,5, 13, 1, 15, 5])"
   ]
  }
 ],
 "metadata": {
  "kernelspec": {
   "display_name": "Python 3 (ipykernel)",
   "language": "python",
   "name": "python3"
  },
  "language_info": {
   "codemirror_mode": {
    "name": "ipython",
    "version": 3
   },
   "file_extension": ".py",
   "mimetype": "text/x-python",
   "name": "python",
   "nbconvert_exporter": "python",
   "pygments_lexer": "ipython3",
   "version": "3.9.12"
  }
 },
 "nbformat": 4,
 "nbformat_minor": 5
}
