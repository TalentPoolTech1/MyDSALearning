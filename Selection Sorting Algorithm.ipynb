{
 "cells": [
  {
   "cell_type": "code",
   "execution_count": 1,
   "id": "f3149f7d",
   "metadata": {},
   "outputs": [],
   "source": [
    "# takes first value at the index, compare with remaining values in the list and swap first with value min value. Iterate through remaining values in the same pattern.\n",
    "# TO achieve this, we are using outer iteration and then inner iteration.\n",
    "def selection_sorting(input_list):\n",
    "    input_list_length = len(input_list)\n",
    "    for main_index_val in range(input_list_length):\n",
    "        min_val_pos = main_index_val\n",
    "        for sub_index_val in range(main_index_val+1, input_list_length):\n",
    "            if input_list[min_val_pos] >= input_list[sub_index_val]:\n",
    "                min_val_pos = sub_index_val\n",
    "                print(input_list)\n",
    "        (input_list[main_index_val], input_list[min_val_pos]) = (input_list[min_val_pos], input_list[main_index_val])\n",
    "        print(input_list)\n",
    "    return input_list\n",
    "    #print(input_list)"
   ]
  },
  {
   "cell_type": "code",
   "execution_count": 2,
   "id": "f0212dc8",
   "metadata": {},
   "outputs": [
    {
     "name": "stdout",
     "output_type": "stream",
     "text": [
      "[10, 2, 13, 4, 2, 1]\n",
      "[10, 2, 13, 4, 2, 1]\n",
      "[10, 2, 13, 4, 2, 1]\n",
      "[1, 2, 13, 4, 2, 10]\n",
      "[1, 2, 13, 4, 2, 10]\n",
      "[1, 2, 13, 4, 2, 10]\n",
      "[1, 2, 13, 4, 2, 10]\n",
      "[1, 2, 13, 4, 2, 10]\n",
      "[1, 2, 2, 4, 13, 10]\n",
      "[1, 2, 2, 4, 13, 10]\n",
      "[1, 2, 2, 4, 13, 10]\n",
      "[1, 2, 2, 4, 10, 13]\n",
      "[1, 2, 2, 4, 10, 13]\n"
     ]
    },
    {
     "data": {
      "text/plain": [
       "[1, 2, 2, 4, 10, 13]"
      ]
     },
     "execution_count": 2,
     "metadata": {},
     "output_type": "execute_result"
    }
   ],
   "source": [
    "selection_sorting([10,2,13,4,2, 1])"
   ]
  }
 ],
 "metadata": {
  "kernelspec": {
   "display_name": "Python 3 (ipykernel)",
   "language": "python",
   "name": "python3"
  },
  "language_info": {
   "codemirror_mode": {
    "name": "ipython",
    "version": 3
   },
   "file_extension": ".py",
   "mimetype": "text/x-python",
   "name": "python",
   "nbconvert_exporter": "python",
   "pygments_lexer": "ipython3",
   "version": "3.9.12"
  }
 },
 "nbformat": 4,
 "nbformat_minor": 5
}
