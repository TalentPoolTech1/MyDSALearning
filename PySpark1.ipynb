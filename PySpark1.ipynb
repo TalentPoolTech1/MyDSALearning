{
 "cells": [
  {
   "cell_type": "code",
   "execution_count": 3,
   "id": "026414c3",
   "metadata": {},
   "outputs": [],
   "source": [
    "import pyspark"
   ]
  },
  {
   "cell_type": "code",
   "execution_count": 6,
   "id": "9d5c88d3",
   "metadata": {},
   "outputs": [],
   "source": [
    "from pyspark.sql import SparkSession"
   ]
  },
  {
   "cell_type": "code",
   "execution_count": 9,
   "id": "f0f9b3c8",
   "metadata": {},
   "outputs": [],
   "source": [
    "spark = SparkSession.builder.appName('practice').getOrCreate()"
   ]
  },
  {
   "cell_type": "code",
   "execution_count": 11,
   "id": "e6ad8832",
   "metadata": {},
   "outputs": [
    {
     "data": {
      "text/html": [
       "\n",
       "            <div>\n",
       "                <p><b>SparkSession - in-memory</b></p>\n",
       "                \n",
       "        <div>\n",
       "            <p><b>SparkContext</b></p>\n",
       "\n",
       "            <p><a href=\"http://IN2304267W2.ey.net:4040\">Spark UI</a></p>\n",
       "\n",
       "            <dl>\n",
       "              <dt>Version</dt>\n",
       "                <dd><code>v3.3.0</code></dd>\n",
       "              <dt>Master</dt>\n",
       "                <dd><code>local[*]</code></dd>\n",
       "              <dt>AppName</dt>\n",
       "                <dd><code>practice</code></dd>\n",
       "            </dl>\n",
       "        </div>\n",
       "        \n",
       "            </div>\n",
       "        "
      ],
      "text/plain": [
       "<pyspark.sql.session.SparkSession at 0x271b75c9640>"
      ]
     },
     "execution_count": 11,
     "metadata": {},
     "output_type": "execute_result"
    }
   ],
   "source": [
    "spark"
   ]
  },
  {
   "cell_type": "code",
   "execution_count": 18,
   "id": "94c645dd",
   "metadata": {},
   "outputs": [],
   "source": [
    "df = spark.read.csv('C:\\\\Users\\\\Venkateswarlu.A\\\\Downloads\\\\NSEData\\\\adaniports.csv')"
   ]
  },
  {
   "cell_type": "code",
   "execution_count": 15,
   "id": "d67c3470",
   "metadata": {},
   "outputs": [
    {
     "name": "stdout",
     "output_type": "stream",
     "text": [
      "+----------+----------+------+----------+------+------+-------+-------+-------+-------+--------+------------------+------+------------------+-------------------+\n",
      "|       _c0|       _c1|   _c2|       _c3|   _c4|   _c5|    _c6|    _c7|    _c8|    _c9|    _c10|              _c11|  _c12|              _c13|               _c14|\n",
      "+----------+----------+------+----------+------+------+-------+-------+-------+-------+--------+------------------+------+------------------+-------------------+\n",
      "|      Date|    Symbol|Series|Prev Close|  Open|  High|    Low|   Last|  Close|   VWAP|  Volume|          Turnover|Trades|Deliverable Volume|        %Deliverble|\n",
      "|2007-11-27|MUNDRAPORT|    EQ|     440.0| 770.0|1050.0|  770.0|  959.0|  962.9| 984.72|27294366|2687719053785000.0|  null|           9859619|0.36119999999999997|\n",
      "|2007-11-28|MUNDRAPORT|    EQ|     962.9| 984.0| 990.0|  874.0|  885.0|  893.9| 941.38| 4581338|431276530164999.94|  null|           1453278|             0.3172|\n",
      "|2007-11-29|MUNDRAPORT|    EQ|     893.9| 909.0|914.75|  841.0|  887.0|  884.2| 888.09| 5124121|455065846264999.94|  null|           1069678|0.20879999999999999|\n",
      "|2007-11-30|MUNDRAPORT|    EQ|     884.2| 890.0| 958.0|  890.0|  929.0| 921.55| 929.17| 4609762| 428325662830000.0|  null|           1260913|             0.2735|\n",
      "|2007-12-03|MUNDRAPORT|    EQ|    921.55|939.75| 995.0|  922.0|  980.0|  969.3| 965.65| 2977470| 287519974300000.0|  null|            816123|             0.2741|\n",
      "|2007-12-04|MUNDRAPORT|    EQ|     969.3| 985.0|1056.0|  976.0| 1049.0|1041.45|1015.39| 4849250| 492386736075000.0|  null|           1537667|             0.3171|\n",
      "|2007-12-05|MUNDRAPORT|    EQ|   1041.45|1061.0|1099.5| 1050.0| 1084.0|1082.45|1082.79| 2848209| 308400973015000.0|  null|            904260|             0.3175|\n",
      "|2007-12-06|MUNDRAPORT|    EQ|   1082.45|1089.0|1109.7| 1051.0| 1090.1| 1081.3|1087.03| 1749516| 190177114020000.0|  null|            825691|0.47200000000000003|\n",
      "|2007-12-07|MUNDRAPORT|    EQ|    1081.3|1100.0|1134.0| 1078.0| 1100.0| 1102.4|1106.57| 2247904| 248746530710000.0|  null|            697763|             0.3104|\n",
      "|2007-12-10|MUNDRAPORT|    EQ|    1102.4|1110.0|1110.0| 1061.1|1073.55| 1075.4|1080.38| 1012350|109372679359999.98|  null|            417514|0.41240000000000004|\n",
      "|2007-12-11|MUNDRAPORT|    EQ|    1075.4|1081.0|1089.0| 1041.0| 1046.0|1047.65| 1067.8|  810464|  86541556460000.0|  null|            415191|             0.5123|\n",
      "|2007-12-12|MUNDRAPORT|    EQ|   1047.65|1032.0|1065.0| 1016.0| 1036.9| 1036.8|1043.92|  744799|  77751369165000.0|  null|            363848|0.48850000000000005|\n",
      "|2007-12-13|MUNDRAPORT|    EQ|    1036.8|1040.0|1150.0|1030.25|1131.15|1129.95|1109.09| 3067687| 340233907520000.0|  null|           1040076|0.33899999999999997|\n",
      "|2007-12-14|MUNDRAPORT|    EQ|   1129.95|1139.9|1140.0| 1101.1| 1107.0| 1110.5|1119.55| 1070737|119874627765000.02|  null|            525239|             0.4905|\n",
      "|2007-12-17|MUNDRAPORT|    EQ|    1110.5|1140.0|1168.0| 1021.5| 1052.0|1044.25|1102.42| 1404955| 154884767715000.0|  null|            670298|             0.4771|\n",
      "|2007-12-18|MUNDRAPORT|    EQ|   1044.25|1045.0|1109.9|1031.55| 1085.0|1074.95|1077.84| 1226984|132249513309999.98|  null|            449420|             0.3663|\n",
      "|2007-12-19|MUNDRAPORT|    EQ|   1074.95|1091.0|1116.0| 1046.3| 1078.0| 1066.9|1082.93|  845666|  91579757645000.0|  null|            344171|0.40700000000000003|\n",
      "|2007-12-20|MUNDRAPORT|    EQ|    1066.9|1083.5|1083.5| 1051.0| 1067.0| 1060.2|1065.52|  623288|  66412706110000.0|  null|            276356|             0.4434|\n",
      "|2007-12-24|MUNDRAPORT|    EQ|    1060.2|1095.0|1192.0|1085.25| 1160.0| 1156.8|1160.77| 2060892| 239221361310000.0|  null|            807879|              0.392|\n",
      "+----------+----------+------+----------+------+------+-------+-------+-------+-------+--------+------------------+------+------------------+-------------------+\n",
      "only showing top 20 rows\n",
      "\n"
     ]
    }
   ],
   "source": [
    "df.show()"
   ]
  },
  {
   "cell_type": "code",
   "execution_count": 22,
   "id": "ebbdf8a8",
   "metadata": {},
   "outputs": [],
   "source": [
    "df = spark.read.option('header','true').csv('C:\\\\Users\\\\Venkateswarlu.A\\\\Downloads\\\\NSEData\\\\adaniports.csv')"
   ]
  },
  {
   "cell_type": "code",
   "execution_count": 23,
   "id": "2feac8d8",
   "metadata": {},
   "outputs": [
    {
     "data": {
      "text/plain": [
       "DataFrame[Date: string, Symbol: string, Series: string, Prev Close: string, Open: string, High: string, Low: string, Last: string, Close: string, VWAP: string, Volume: string, Turnover: string, Trades: string, Deliverable Volume: string, %Deliverble: string]"
      ]
     },
     "execution_count": 23,
     "metadata": {},
     "output_type": "execute_result"
    }
   ],
   "source": [
    "df"
   ]
  },
  {
   "cell_type": "code",
   "execution_count": 25,
   "id": "49bdc4ed",
   "metadata": {},
   "outputs": [
    {
     "data": {
      "text/plain": [
       "[Row(Date='2007-11-27', Symbol='MUNDRAPORT', Series='EQ', Prev Close='440.0', Open='770.0', High='1050.0', Low='770.0', Last='959.0', Close='962.9', VWAP='984.72', Volume='27294366', Turnover='2687719053785000.0', Trades=None, Deliverable Volume='9859619', %Deliverble='0.36119999999999997'),\n",
       " Row(Date='2007-11-28', Symbol='MUNDRAPORT', Series='EQ', Prev Close='962.9', Open='984.0', High='990.0', Low='874.0', Last='885.0', Close='893.9', VWAP='941.38', Volume='4581338', Turnover='431276530164999.94', Trades=None, Deliverable Volume='1453278', %Deliverble='0.3172'),\n",
       " Row(Date='2007-11-29', Symbol='MUNDRAPORT', Series='EQ', Prev Close='893.9', Open='909.0', High='914.75', Low='841.0', Last='887.0', Close='884.2', VWAP='888.09', Volume='5124121', Turnover='455065846264999.94', Trades=None, Deliverable Volume='1069678', %Deliverble='0.20879999999999999')]"
      ]
     },
     "execution_count": 25,
     "metadata": {},
     "output_type": "execute_result"
    }
   ],
   "source": [
    "df.head(3)"
   ]
  },
  {
   "cell_type": "code",
   "execution_count": 26,
   "id": "caaa3564",
   "metadata": {},
   "outputs": [
    {
     "name": "stdout",
     "output_type": "stream",
     "text": [
      "root\n",
      " |-- Date: string (nullable = true)\n",
      " |-- Symbol: string (nullable = true)\n",
      " |-- Series: string (nullable = true)\n",
      " |-- Prev Close: string (nullable = true)\n",
      " |-- Open: string (nullable = true)\n",
      " |-- High: string (nullable = true)\n",
      " |-- Low: string (nullable = true)\n",
      " |-- Last: string (nullable = true)\n",
      " |-- Close: string (nullable = true)\n",
      " |-- VWAP: string (nullable = true)\n",
      " |-- Volume: string (nullable = true)\n",
      " |-- Turnover: string (nullable = true)\n",
      " |-- Trades: string (nullable = true)\n",
      " |-- Deliverable Volume: string (nullable = true)\n",
      " |-- %Deliverble: string (nullable = true)\n",
      "\n"
     ]
    }
   ],
   "source": [
    "df.printSchema()"
   ]
  },
  {
   "cell_type": "code",
   "execution_count": 27,
   "id": "f33784e1",
   "metadata": {},
   "outputs": [
    {
     "name": "stdout",
     "output_type": "stream",
     "text": [
      "DataFrame[Date: string, Symbol: string, Series: string, Prev Close: string, Open: string, High: string, Low: string, Last: string, Close: string, VWAP: string, Volume: string, Turnover: string, Trades: string, Deliverable Volume: string, %Deliverble: string]\n"
     ]
    }
   ],
   "source": [
    "print(df)"
   ]
  },
  {
   "cell_type": "code",
   "execution_count": 30,
   "id": "baf52e20",
   "metadata": {},
   "outputs": [
    {
     "data": {
      "text/plain": [
       "[('Date', 'string'),\n",
       " ('Symbol', 'string'),\n",
       " ('Series', 'string'),\n",
       " ('Prev Close', 'string'),\n",
       " ('Open', 'string'),\n",
       " ('High', 'string'),\n",
       " ('Low', 'string'),\n",
       " ('Last', 'string'),\n",
       " ('Close', 'string'),\n",
       " ('VWAP', 'string'),\n",
       " ('Volume', 'string'),\n",
       " ('Turnover', 'string'),\n",
       " ('Trades', 'string'),\n",
       " ('Deliverable Volume', 'string'),\n",
       " ('%Deliverble', 'string')]"
      ]
     },
     "execution_count": 30,
     "metadata": {},
     "output_type": "execute_result"
    }
   ],
   "source": [
    "df.dtypes"
   ]
  },
  {
   "cell_type": "code",
   "execution_count": 31,
   "id": "09e50301",
   "metadata": {},
   "outputs": [
    {
     "data": {
      "text/plain": [
       "['Date',\n",
       " 'Symbol',\n",
       " 'Series',\n",
       " 'Prev Close',\n",
       " 'Open',\n",
       " 'High',\n",
       " 'Low',\n",
       " 'Last',\n",
       " 'Close',\n",
       " 'VWAP',\n",
       " 'Volume',\n",
       " 'Turnover',\n",
       " 'Trades',\n",
       " 'Deliverable Volume',\n",
       " '%Deliverble']"
      ]
     },
     "execution_count": 31,
     "metadata": {},
     "output_type": "execute_result"
    }
   ],
   "source": [
    "df.columns"
   ]
  },
  {
   "cell_type": "code",
   "execution_count": 32,
   "id": "05579a60",
   "metadata": {},
   "outputs": [
    {
     "data": {
      "text/plain": [
       "[StructField('Date', StringType(), True),\n",
       " StructField('Symbol', StringType(), True),\n",
       " StructField('Series', StringType(), True),\n",
       " StructField('Prev Close', StringType(), True),\n",
       " StructField('Open', StringType(), True),\n",
       " StructField('High', StringType(), True),\n",
       " StructField('Low', StringType(), True),\n",
       " StructField('Last', StringType(), True),\n",
       " StructField('Close', StringType(), True),\n",
       " StructField('VWAP', StringType(), True),\n",
       " StructField('Volume', StringType(), True),\n",
       " StructField('Turnover', StringType(), True),\n",
       " StructField('Trades', StringType(), True),\n",
       " StructField('Deliverable Volume', StringType(), True),\n",
       " StructField('%Deliverble', StringType(), True)]"
      ]
     },
     "execution_count": 32,
     "metadata": {},
     "output_type": "execute_result"
    }
   ],
   "source": [
    "df.schema.fields"
   ]
  },
  {
   "cell_type": "code",
   "execution_count": 38,
   "id": "8f2ab33c",
   "metadata": {},
   "outputs": [
    {
     "data": {
      "text/plain": [
       "('Symbol', 'string')"
      ]
     },
     "execution_count": 38,
     "metadata": {},
     "output_type": "execute_result"
    }
   ],
   "source": [
    "df.dtypes[1]"
   ]
  },
  {
   "cell_type": "code",
   "execution_count": 44,
   "id": "c543d112",
   "metadata": {},
   "outputs": [
    {
     "name": "stdout",
     "output_type": "stream",
     "text": [
      "Date string\n",
      "Symbol string\n",
      "Series string\n",
      "Prev Close string\n",
      "Open string\n",
      "High string\n",
      "Low string\n",
      "Last string\n",
      "Close string\n",
      "VWAP string\n",
      "Volume string\n",
      "Turnover string\n",
      "Trades string\n",
      "Deliverable Volume string\n",
      "%Deliverble string\n"
     ]
    }
   ],
   "source": [
    "for i in df.dtypes:\n",
    "    columnName, dataType = (i[0], i[1])\n",
    "    print(columnName, dataType)"
   ]
  },
  {
   "cell_type": "code",
   "execution_count": 46,
   "id": "b4daecc2",
   "metadata": {},
   "outputs": [],
   "source": [
    "dataTypes_dict = dict(df.dtypes)"
   ]
  },
  {
   "cell_type": "code",
   "execution_count": 50,
   "id": "a133862e",
   "metadata": {},
   "outputs": [
    {
     "name": "stdout",
     "output_type": "stream",
     "text": [
      "No\n"
     ]
    }
   ],
   "source": [
    "if 'symbol' in dataTypes_dict.keys():\n",
    "    print('Yes')\n",
    "else:\n",
    "        print('No')"
   ]
  },
  {
   "cell_type": "code",
   "execution_count": 52,
   "id": "9919cb86",
   "metadata": {},
   "outputs": [
    {
     "data": {
      "text/plain": [
       "StringType()"
      ]
     },
     "execution_count": 52,
     "metadata": {},
     "output_type": "execute_result"
    }
   ],
   "source": [
    "df.schema['Symbol'].dataType"
   ]
  },
  {
   "cell_type": "code",
   "execution_count": 53,
   "id": "686ad44b",
   "metadata": {},
   "outputs": [],
   "source": [
    "df = spark.read.option('header','true').csv('C:\\\\Users\\\\Venkateswarlu.A\\\\Downloads\\\\NSEData\\\\adaniports.csv',inferSchema=True)"
   ]
  },
  {
   "cell_type": "code",
   "execution_count": 55,
   "id": "1463a4f3",
   "metadata": {},
   "outputs": [
    {
     "name": "stdout",
     "output_type": "stream",
     "text": [
      "+-------------------+----------+------+----------+------+------+-------+-------+-------+-------+--------+--------------------+------+------------------+-------------------+\n",
      "|               Date|    Symbol|Series|Prev Close|  Open|  High|    Low|   Last|  Close|   VWAP|  Volume|            Turnover|Trades|Deliverable Volume|        %Deliverble|\n",
      "+-------------------+----------+------+----------+------+------+-------+-------+-------+-------+--------+--------------------+------+------------------+-------------------+\n",
      "|2007-11-27 00:00:00|MUNDRAPORT|    EQ|     440.0| 770.0|1050.0|  770.0|  959.0|  962.9| 984.72|27294366|   2.687719053785E15|  null|           9859619|0.36119999999999997|\n",
      "|2007-11-28 00:00:00|MUNDRAPORT|    EQ|     962.9| 984.0| 990.0|  874.0|  885.0|  893.9| 941.38| 4581338|4.312765301649999...|  null|           1453278|             0.3172|\n",
      "|2007-11-29 00:00:00|MUNDRAPORT|    EQ|     893.9| 909.0|914.75|  841.0|  887.0|  884.2| 888.09| 5124121|4.550658462649999...|  null|           1069678|0.20879999999999999|\n",
      "|2007-11-30 00:00:00|MUNDRAPORT|    EQ|     884.2| 890.0| 958.0|  890.0|  929.0| 921.55| 929.17| 4609762|     4.2832566283E14|  null|           1260913|             0.2735|\n",
      "|2007-12-03 00:00:00|MUNDRAPORT|    EQ|    921.55|939.75| 995.0|  922.0|  980.0|  969.3| 965.65| 2977470|      2.875199743E14|  null|            816123|             0.2741|\n",
      "|2007-12-04 00:00:00|MUNDRAPORT|    EQ|     969.3| 985.0|1056.0|  976.0| 1049.0|1041.45|1015.39| 4849250|    4.92386736075E14|  null|           1537667|             0.3171|\n",
      "|2007-12-05 00:00:00|MUNDRAPORT|    EQ|   1041.45|1061.0|1099.5| 1050.0| 1084.0|1082.45|1082.79| 2848209|    3.08400973015E14|  null|            904260|             0.3175|\n",
      "|2007-12-06 00:00:00|MUNDRAPORT|    EQ|   1082.45|1089.0|1109.7| 1051.0| 1090.1| 1081.3|1087.03| 1749516|     1.9017711402E14|  null|            825691|0.47200000000000003|\n",
      "|2007-12-07 00:00:00|MUNDRAPORT|    EQ|    1081.3|1100.0|1134.0| 1078.0| 1100.0| 1102.4|1106.57| 2247904|     2.4874653071E14|  null|            697763|             0.3104|\n",
      "|2007-12-10 00:00:00|MUNDRAPORT|    EQ|    1102.4|1110.0|1110.0| 1061.1|1073.55| 1075.4|1080.38| 1012350|1.093726793599999...|  null|            417514|0.41240000000000004|\n",
      "|2007-12-11 00:00:00|MUNDRAPORT|    EQ|    1075.4|1081.0|1089.0| 1041.0| 1046.0|1047.65| 1067.8|  810464|      8.654155646E13|  null|            415191|             0.5123|\n",
      "|2007-12-12 00:00:00|MUNDRAPORT|    EQ|   1047.65|1032.0|1065.0| 1016.0| 1036.9| 1036.8|1043.92|  744799|     7.7751369165E13|  null|            363848|0.48850000000000005|\n",
      "|2007-12-13 00:00:00|MUNDRAPORT|    EQ|    1036.8|1040.0|1150.0|1030.25|1131.15|1129.95|1109.09| 3067687|     3.4023390752E14|  null|           1040076|0.33899999999999997|\n",
      "|2007-12-14 00:00:00|MUNDRAPORT|    EQ|   1129.95|1139.9|1140.0| 1101.1| 1107.0| 1110.5|1119.55| 1070737|1.198746277650000...|  null|            525239|             0.4905|\n",
      "|2007-12-17 00:00:00|MUNDRAPORT|    EQ|    1110.5|1140.0|1168.0| 1021.5| 1052.0|1044.25|1102.42| 1404955|    1.54884767715E14|  null|            670298|             0.4771|\n",
      "|2007-12-18 00:00:00|MUNDRAPORT|    EQ|   1044.25|1045.0|1109.9|1031.55| 1085.0|1074.95|1077.84| 1226984|1.322495133099999...|  null|            449420|             0.3663|\n",
      "|2007-12-19 00:00:00|MUNDRAPORT|    EQ|   1074.95|1091.0|1116.0| 1046.3| 1078.0| 1066.9|1082.93|  845666|     9.1579757645E13|  null|            344171|0.40700000000000003|\n",
      "|2007-12-20 00:00:00|MUNDRAPORT|    EQ|    1066.9|1083.5|1083.5| 1051.0| 1067.0| 1060.2|1065.52|  623288|      6.641270611E13|  null|            276356|             0.4434|\n",
      "|2007-12-24 00:00:00|MUNDRAPORT|    EQ|    1060.2|1095.0|1192.0|1085.25| 1160.0| 1156.8|1160.77| 2060892|     2.3922136131E14|  null|            807879|              0.392|\n",
      "|2007-12-26 00:00:00|MUNDRAPORT|    EQ|    1156.8|1175.0|1214.0| 1148.0| 1212.0| 1199.9| 1183.3| 1467031|     1.7359385654E14|  null|            469389|               0.32|\n",
      "+-------------------+----------+------+----------+------+------+-------+-------+-------+-------+--------+--------------------+------+------------------+-------------------+\n",
      "only showing top 20 rows\n",
      "\n"
     ]
    }
   ],
   "source": [
    "df.show()"
   ]
  },
  {
   "cell_type": "code",
   "execution_count": 62,
   "id": "a7f1cd13",
   "metadata": {},
   "outputs": [
    {
     "data": {
      "text/plain": [
       "[('Date', 'timestamp'),\n",
       " ('Symbol', 'string'),\n",
       " ('Series', 'string'),\n",
       " ('Prev Close', 'double'),\n",
       " ('Open', 'double'),\n",
       " ('High', 'double'),\n",
       " ('Low', 'double'),\n",
       " ('Last', 'double'),\n",
       " ('Close', 'double'),\n",
       " ('VWAP', 'double'),\n",
       " ('Volume', 'int'),\n",
       " ('Turnover', 'double'),\n",
       " ('Trades', 'double'),\n",
       " ('Deliverable Volume', 'int'),\n",
       " ('%Deliverble', 'double')]"
      ]
     },
     "execution_count": 62,
     "metadata": {},
     "output_type": "execute_result"
    }
   ],
   "source": [
    "df.dtypes"
   ]
  },
  {
   "cell_type": "code",
   "execution_count": 100,
   "id": "2e2132e9",
   "metadata": {},
   "outputs": [],
   "source": [
    "df = spark.read.csv('C:\\\\Users\\\\Venkateswarlu.A\\\\Downloads\\\\NSEData\\\\adaniports.csv',header=True, inferSchema=True)"
   ]
  },
  {
   "cell_type": "code",
   "execution_count": 64,
   "id": "d20982a9",
   "metadata": {},
   "outputs": [
    {
     "data": {
      "text/plain": [
       "DataFrame[Date: timestamp, Symbol: string, Series: string, Prev Close: double, Open: double, High: double, Low: double, Last: double, Close: double, VWAP: double, Volume: int, Turnover: double, Trades: double, Deliverable Volume: int, %Deliverble: double]"
      ]
     },
     "execution_count": 64,
     "metadata": {},
     "output_type": "execute_result"
    }
   ],
   "source": [
    "df"
   ]
  },
  {
   "cell_type": "code",
   "execution_count": 67,
   "id": "da1cf3f6",
   "metadata": {},
   "outputs": [
    {
     "name": "stdout",
     "output_type": "stream",
     "text": [
      "+-------------------+----------+\n",
      "|               Date|    Symbol|\n",
      "+-------------------+----------+\n",
      "|2007-11-27 00:00:00|MUNDRAPORT|\n",
      "|2007-11-28 00:00:00|MUNDRAPORT|\n",
      "|2007-11-29 00:00:00|MUNDRAPORT|\n",
      "|2007-11-30 00:00:00|MUNDRAPORT|\n",
      "|2007-12-03 00:00:00|MUNDRAPORT|\n",
      "|2007-12-04 00:00:00|MUNDRAPORT|\n",
      "|2007-12-05 00:00:00|MUNDRAPORT|\n",
      "|2007-12-06 00:00:00|MUNDRAPORT|\n",
      "|2007-12-07 00:00:00|MUNDRAPORT|\n",
      "|2007-12-10 00:00:00|MUNDRAPORT|\n",
      "|2007-12-11 00:00:00|MUNDRAPORT|\n",
      "|2007-12-12 00:00:00|MUNDRAPORT|\n",
      "|2007-12-13 00:00:00|MUNDRAPORT|\n",
      "|2007-12-14 00:00:00|MUNDRAPORT|\n",
      "|2007-12-17 00:00:00|MUNDRAPORT|\n",
      "|2007-12-18 00:00:00|MUNDRAPORT|\n",
      "|2007-12-19 00:00:00|MUNDRAPORT|\n",
      "|2007-12-20 00:00:00|MUNDRAPORT|\n",
      "|2007-12-24 00:00:00|MUNDRAPORT|\n",
      "|2007-12-26 00:00:00|MUNDRAPORT|\n",
      "+-------------------+----------+\n",
      "only showing top 20 rows\n",
      "\n"
     ]
    }
   ],
   "source": [
    "df.select(['Date','Symbol']).show()"
   ]
  },
  {
   "cell_type": "code",
   "execution_count": 75,
   "id": "c98d4b97",
   "metadata": {},
   "outputs": [
    {
     "data": {
      "text/plain": [
       "DataFrame[summary: string, Symbol: string, Series: string, Prev Close: string, Open: string, High: string, Low: string, Last: string, Close: string, VWAP: string, Volume: string, Turnover: string, Trades: string, Deliverable Volume: string, %Deliverble: string]"
      ]
     },
     "execution_count": 75,
     "metadata": {},
     "output_type": "execute_result"
    }
   ],
   "source": [
    "df.describe()"
   ]
  },
  {
   "cell_type": "code",
   "execution_count": 76,
   "id": "d6ad4559",
   "metadata": {},
   "outputs": [
    {
     "name": "stdout",
     "output_type": "stream",
     "text": [
      "+-------+----------+------+------------------+------------------+------------------+------------------+------------------+------------------+------------------+------------------+--------------------+------------------+------------------+-------------------+\n",
      "|summary|    Symbol|Series|        Prev Close|              Open|              High|               Low|              Last|             Close|              VWAP|            Volume|            Turnover|            Trades|Deliverable Volume|        %Deliverble|\n",
      "+-------+----------+------+------------------+------------------+------------------+------------------+------------------+------------------+------------------+------------------+--------------------+------------------+------------------+-------------------+\n",
      "|  count|      3322|  3322|              3322|              3322|              3322|              3322|              3322|              3322|              3322|              3322|                3322|              2456|              3322|               3322|\n",
      "|   mean|      null|  null| 344.1143136664671| 344.7630192655023| 351.6080072245627|337.53196869355827|344.23953943407594|344.20162552679227|344.85318181818195|2954563.9217338953|1.070144143729152...| 44922.58835504886|1207441.0716435881|0.44589873570138505|\n",
      "| stddev|      null|  null|192.93688224137688|193.61999242783793|198.61780771169776|188.67661429857975| 193.1878131000533|193.04588649138373| 193.8413052428917| 4104226.695264226|2.625563814576412...|50231.235632175754|1398640.1629227337|0.16049610980668785|\n",
      "|    min|ADANIPORTS|    EQ|             108.0|             108.0|            110.45|            105.65|             108.0|             108.0|            108.34|             12366|2.415857049999999...|             366.0|              5383|              0.067|\n",
      "|    max|MUNDRAPORT|    EQ|           1307.45|           1310.25|            1324.0|            1270.0|            1308.0|           1307.45|           1302.15|          97717880|8.160988307835001E15|         1205984.0|          22416516| 0.9798000000000001|\n",
      "+-------+----------+------+------------------+------------------+------------------+------------------+------------------+------------------+------------------+------------------+--------------------+------------------+------------------+-------------------+\n",
      "\n"
     ]
    }
   ],
   "source": [
    "df.describe().show()"
   ]
  },
  {
   "cell_type": "code",
   "execution_count": 101,
   "id": "96cde952",
   "metadata": {},
   "outputs": [],
   "source": [
    "#!pip install lit\n",
    "#import lit\n",
    "df = df.withColumn(\"TestColumn\",df['Volume']+1)\n",
    "# Note, adding a literal will throw error, Figure it if there is a possibility."
   ]
  },
  {
   "cell_type": "code",
   "execution_count": 102,
   "id": "cfc55398",
   "metadata": {},
   "outputs": [
    {
     "data": {
      "text/plain": [
       "pyspark.sql.dataframe.DataFrame"
      ]
     },
     "execution_count": 102,
     "metadata": {},
     "output_type": "execute_result"
    }
   ],
   "source": [
    "type(df)"
   ]
  },
  {
   "cell_type": "code",
   "execution_count": 104,
   "id": "91a9299a",
   "metadata": {},
   "outputs": [],
   "source": [
    "df = df.drop('TestColumn')"
   ]
  },
  {
   "cell_type": "code",
   "execution_count": 105,
   "id": "b9b60636",
   "metadata": {},
   "outputs": [
    {
     "data": {
      "text/plain": [
       "DataFrame[Date: timestamp, Symbol: string, Series: string, Prev Close: double, Open: double, High: double, Low: double, Last: double, Close: double, VWAP: double, Volume: int, Turnover: double, Trades: double, Deliverable Volume: int, %Deliverble: double]"
      ]
     },
     "execution_count": 105,
     "metadata": {},
     "output_type": "execute_result"
    }
   ],
   "source": [
    "df"
   ]
  },
  {
   "cell_type": "code",
   "execution_count": null,
   "id": "5606b77f",
   "metadata": {},
   "outputs": [],
   "source": []
  }
 ],
 "metadata": {
  "kernelspec": {
   "display_name": "Python 3 (ipykernel)",
   "language": "python",
   "name": "python3"
  },
  "language_info": {
   "codemirror_mode": {
    "name": "ipython",
    "version": 3
   },
   "file_extension": ".py",
   "mimetype": "text/x-python",
   "name": "python",
   "nbconvert_exporter": "python",
   "pygments_lexer": "ipython3",
   "version": "3.9.12"
  }
 },
 "nbformat": 4,
 "nbformat_minor": 5
}
