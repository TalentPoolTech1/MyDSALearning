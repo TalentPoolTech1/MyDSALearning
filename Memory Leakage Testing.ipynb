{
 "cells": [
  {
   "cell_type": "code",
   "execution_count": 1,
   "id": "3470d1f5",
   "metadata": {},
   "outputs": [],
   "source": [
    "import requests\n",
    "import gc\n",
    "from memory_profiler import profile\n",
    "from time import process_time\n",
    "import random\n",
    "input_list = random.sample(range(1, 1000000), 10000)\n",
    "#print(input_list)"
   ]
  },
  {
   "cell_type": "code",
   "execution_count": 2,
   "id": "d69ccc28",
   "metadata": {},
   "outputs": [],
   "source": [
    "def selection_sorting(input_list):\n",
    "    input_list_length = len(input_list)\n",
    "    for main_index_val in range(input_list_length):\n",
    "        min_val_pos = main_index_val\n",
    "        for sub_index_val in range(main_index_val+1, input_list_length):\n",
    "            if input_list[min_val_pos] >= input_list[sub_index_val]:\n",
    "                min_val_pos = sub_index_val\n",
    "        (input_list[main_index_val], input_list[min_val_pos]) = (input_list[min_val_pos], input_list[main_index_val])\n",
    "        #print(input_list)\n",
    "    return input_list"
   ]
  },
  {
   "cell_type": "code",
   "execution_count": 9,
   "id": "9caa7751",
   "metadata": {},
   "outputs": [
    {
     "name": "stdout",
     "output_type": "stream",
     "text": [
      "No.of tracked objects before calling get method\n",
      "130059\n",
      "No.of tracked objects after calling get method\n",
      "130052\n",
      "No.of tracked objects after calling get method\n",
      "129278\n"
     ]
    }
   ],
   "source": [
    "def main():\n",
    "    print(\"No.of tracked objects before calling get method\")\n",
    "     \n",
    "    # gc.get_objects() returns list objects been tracked\n",
    "    # by the collector.\n",
    "    # print the length of object list with len function.\n",
    "    print(len( gc.get_objects() ) )\n",
    "     \n",
    "    # make a call to the function, that calls get method.\n",
    "    selection_sorting(input_list)\n",
    " \n",
    "    print(\"No.of tracked objects after calling get method\")\n",
    "     \n",
    "    # print the length of object list with len function.\n",
    "    print(len( gc.get_objects() ) )\n",
    "    \n",
    "    gc.collect()\n",
    "    \n",
    "    print(\"No.of tracked objects after calling get method\")\n",
    "    print(len( gc.get_objects() ) )\n",
    " \n",
    "if __name__ == \"__main__\":\n",
    "    main()"
   ]
  },
  {
   "cell_type": "code",
   "execution_count": 5,
   "id": "3aa82839",
   "metadata": {},
   "outputs": [],
   "source": [
    "def bubble_sorting(input_list):\n",
    "    input_list_length = len(input_list)\n",
    "    for outer_index_val in range(input_list_length):\n",
    "        for inner_index_val in range(input_list_length-1):\n",
    "            if input_list[inner_index_val] > input_list[inner_index_val+1]:\n",
    "                (input_list[inner_index_val] , input_list[inner_index_val+1]) = (input_list[inner_index_val+1] , input_list[inner_index_val])\n",
    "    return input_list"
   ]
  },
  {
   "cell_type": "code",
   "execution_count": 6,
   "id": "c2c531e2",
   "metadata": {},
   "outputs": [
    {
     "name": "stdout",
     "output_type": "stream",
     "text": [
      "No.of tracked objects before calling get method\n",
      "130010\n",
      "No.of tracked objects after calling get method\n",
      "129998\n"
     ]
    }
   ],
   "source": [
    "def main():\n",
    "    print(\"No.of tracked objects before calling get method\")\n",
    "     \n",
    "    # gc.get_objects() returns list objects been tracked\n",
    "    # by the collector.\n",
    "    # print the length of object list with len function.\n",
    "    print(len( gc.get_objects() ) )\n",
    "     \n",
    "    # make a call to the function, that calls get method.\n",
    "    bubble_sorting(input_list)\n",
    " \n",
    "    print(\"No.of tracked objects after calling get method\")\n",
    "     \n",
    "    # print the length of object list with len function.\n",
    "    print(len( gc.get_objects() ) )\n",
    " \n",
    "if __name__ == \"__main__\":\n",
    "    main()"
   ]
  },
  {
   "cell_type": "code",
   "execution_count": 7,
   "id": "c826c55b",
   "metadata": {},
   "outputs": [],
   "source": [
    "def insert_sorting(input_list):\n",
    "    input_list_length = len(input_list)\n",
    "    for outer_index_val in range(input_list_length):\n",
    "        for inner_index_val in range(outer_index_val+1, input_list_length):\n",
    "            if input_list[outer_index_val] > input_list[inner_index_val]:\n",
    "                (input_list[outer_index_val], input_list[inner_index_val]) = (input_list[inner_index_val], input_list[outer_index_val])\n",
    "    return input_list"
   ]
  },
  {
   "cell_type": "code",
   "execution_count": 8,
   "id": "228147eb",
   "metadata": {},
   "outputs": [
    {
     "name": "stdout",
     "output_type": "stream",
     "text": [
      "No.of tracked objects before calling get method\n",
      "130015\n",
      "No.of tracked objects after calling get method\n",
      "130008\n"
     ]
    }
   ],
   "source": [
    "def main():\n",
    "    print(\"No.of tracked objects before calling get method\")\n",
    "     \n",
    "    # gc.get_objects() returns list objects been tracked\n",
    "    # by the collector.\n",
    "    # print the length of object list with len function.\n",
    "    print(len( gc.get_objects() ) )\n",
    "     \n",
    "    # make a call to the function, that calls get method.\n",
    "    insert_sorting(input_list)\n",
    " \n",
    "    print(\"No.of tracked objects after calling get method\")\n",
    "     \n",
    "    # print the length of object list with len function.\n",
    "    print(len( gc.get_objects() ) )\n",
    " \n",
    "if __name__ == \"__main__\":\n",
    "    main()"
   ]
  }
 ],
 "metadata": {
  "kernelspec": {
   "display_name": "Python 3 (ipykernel)",
   "language": "python",
   "name": "python3"
  },
  "language_info": {
   "codemirror_mode": {
    "name": "ipython",
    "version": 3
   },
   "file_extension": ".py",
   "mimetype": "text/x-python",
   "name": "python",
   "nbconvert_exporter": "python",
   "pygments_lexer": "ipython3",
   "version": "3.9.12"
  }
 },
 "nbformat": 4,
 "nbformat_minor": 5
}
