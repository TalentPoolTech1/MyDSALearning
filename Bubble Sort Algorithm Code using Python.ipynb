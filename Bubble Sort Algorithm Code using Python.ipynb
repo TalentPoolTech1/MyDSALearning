{
 "cells": [
  {
   "cell_type": "code",
   "execution_count": 11,
   "id": "d6ac335b",
   "metadata": {},
   "outputs": [],
   "source": [
    "# Get iterated length(list) times outside and length(list)- times inside by swapping the min positions for each iteration.\n",
    "def bubble_sorting(input_list):\n",
    "    input_list_length = len(input_list)\n",
    "    for outer_index_val in range(input_list_length):\n",
    "        for inner_index_val in range(input_list_length-1):\n",
    "            if input_list[inner_index_val] > input_list[inner_index_val+1]:\n",
    "                (input_list[inner_index_val] , input_list[inner_index_val+1]) = (input_list[inner_index_val+1] , input_list[inner_index_val])\n",
    "    return input_list"
   ]
  },
  {
   "cell_type": "code",
   "execution_count": 12,
   "id": "d7d0fa81",
   "metadata": {},
   "outputs": [
    {
     "data": {
      "text/plain": [
       "[1, 2, 5, 6, 10, 13]"
      ]
     },
     "execution_count": 12,
     "metadata": {},
     "output_type": "execute_result"
    }
   ],
   "source": [
    "bubble_sorting([10,5,1,13,2,6])"
   ]
  }
 ],
 "metadata": {
  "kernelspec": {
   "display_name": "Python 3 (ipykernel)",
   "language": "python",
   "name": "python3"
  },
  "language_info": {
   "codemirror_mode": {
    "name": "ipython",
    "version": 3
   },
   "file_extension": ".py",
   "mimetype": "text/x-python",
   "name": "python",
   "nbconvert_exporter": "python",
   "pygments_lexer": "ipython3",
   "version": "3.9.12"
  }
 },
 "nbformat": 4,
 "nbformat_minor": 5
}
