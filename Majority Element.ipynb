{
 "cells": [
  {
   "cell_type": "code",
   "execution_count": 37,
   "id": "735a72fb",
   "metadata": {},
   "outputs": [
    {
     "name": "stdout",
     "output_type": "stream",
     "text": [
      "input list length is: 48\n"
     ]
    },
    {
     "data": {
      "text/plain": [
       "[{'majority value count is:': 0}, 'majority value does not exists.']"
      ]
     },
     "execution_count": 37,
     "metadata": {},
     "output_type": "execute_result"
    }
   ],
   "source": [
    "def majority_element(input_list):\n",
    "    out_list = dict()\n",
    "    result = ''\n",
    "    input_list_lenth = len(input_list)\n",
    "    print(\"input list length is:\", input_list_lenth)\n",
    "    for i in input_list:\n",
    "        max_val_cnt, max_repeated_val = 0, 0\n",
    "        for j in input_list:\n",
    "            if i == j:\n",
    "                max_val_cnt += 1\n",
    "            if max_val_cnt >= input_list_lenth//2:\n",
    "                out_list[f\"value  {i} repeated\"] = f\"{max_val_cnt} times\"\n",
    "    if out_list:\n",
    "        return [out_list, \"Majority value exists.\"]\n",
    "    else :\n",
    "        out_list[\"majority value count is:\"] = 0\n",
    "        return [out_list, \"majority value does not exists.\"]\n",
    "\n",
    "majority_element([1,2,1,1,1,2,3,1,3,4,1,2,5,2,2,2,2,2, 2,1,1,1,1,1,1,1,1,1,1,1,1,1,3,4,5,6,6,7,1,2,3,4,5,6,7,8,9,0])"
   ]
  },
  {
   "cell_type": "code",
   "execution_count": null,
   "id": "4a68dd72",
   "metadata": {},
   "outputs": [],
   "source": []
  }
 ],
 "metadata": {
  "kernelspec": {
   "display_name": "Python 3 (ipykernel)",
   "language": "python",
   "name": "python3"
  },
  "language_info": {
   "codemirror_mode": {
    "name": "ipython",
    "version": 3
   },
   "file_extension": ".py",
   "mimetype": "text/x-python",
   "name": "python",
   "nbconvert_exporter": "python",
   "pygments_lexer": "ipython3",
   "version": "3.9.12"
  }
 },
 "nbformat": 4,
 "nbformat_minor": 5
}
